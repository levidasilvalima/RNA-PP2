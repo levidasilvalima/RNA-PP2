{
  "nbformat": 4,
  "nbformat_minor": 0,
  "metadata": {
    "language_info": {
      "codemirror_mode": {
        "name": "ipython",
        "version": 3
      },
      "file_extension": ".py",
      "mimetype": "text/x-python",
      "name": "python",
      "nbconvert_exporter": "python",
      "pygments_lexer": "ipython3",
      "version": "3.7.4-final"
    },
    "orig_nbformat": 2,
    "kernelspec": {
      "name": "python37464bit286065bc8b1e4c1480c2b405bd71233c",
      "display_name": "Python 3.7.4 64-bit"
    },
    "colab": {
      "name": "PP2_parte1.ipynb",
      "provenance": []
    }
  },
  "cells": [
    {
      "cell_type": "markdown",
      "metadata": {
        "id": "oHfMeKICUbBQ",
        "colab_type": "text"
      },
      "source": [
        "# PP2 - Parte 1"
      ]
    },
    {
      "cell_type": "markdown",
      "metadata": {
        "id": "ivAkTUMAUbBR",
        "colab_type": "text"
      },
      "source": [
        "## Notebook do exercício prático 2, Parte 1\n",
        "\n",
        "* **UEA - Universidade do Estado do Amazonas**\n",
        "* **EST - Escola Superior de Tecnologia**\n",
        "* **Matéria de Redes Neurais**\n",
        "* **Professora Elloá Guedes**\n",
        "* **Repositório:** https://github.com/levidasilvalima/RNA-PP2\n",
        "\n",
        "### Autores\n",
        "* Ian Gustavo Alves Pessoa Silva - 1715080288  \n",
        "* William Azevedo da Silva - 1615080226  \n",
        "* Daniel Akio Chen - 1715080253  \n",
        "* Levi da Silva Lima - 1615080131  \n"
      ]
    },
    {
      "cell_type": "markdown",
      "metadata": {
        "id": "VDN3BVAsUbBS",
        "colab_type": "text"
      },
      "source": [
        "## Import das bibliotecas\n",
        "Aqui há apenas um simples import das bibliotecas a serem usadas"
      ]
    },
    {
      "cell_type": "code",
      "metadata": {
        "tags": [],
        "id": "ppBjV2ufUbBS",
        "colab_type": "code",
        "colab": {}
      },
      "source": [
        "import numpy as np\n",
        "import random\n",
        "import math\n",
        "import matplotlib.pyplot as plt\n",
        "from google.colab import drive"
      ],
      "execution_count": 2,
      "outputs": []
    },
    {
      "cell_type": "code",
      "metadata": {
        "id": "Bz7Xj1U6U3d_",
        "colab_type": "code",
        "colab": {
          "base_uri": "https://localhost:8080/",
          "height": 34
        },
        "outputId": "5e706d57-9b85-4326-e3d2-a671a273f564"
      },
      "source": [
        "drive.mount('/content/drive/')"
      ],
      "execution_count": 20,
      "outputs": [
        {
          "output_type": "stream",
          "text": [
            "Drive already mounted at /content/drive/; to attempt to forcibly remount, call drive.mount(\"/content/drive/\", force_remount=True).\n"
          ],
          "name": "stdout"
        }
      ]
    },
    {
      "cell_type": "markdown",
      "metadata": {
        "id": "Pl0C44iJUbBW",
        "colab_type": "text"
      },
      "source": [
        "## Import do arquivo a ser usado\n",
        "Como o próprio nome diz, é import dos dados brutos a serem usados.\n"
      ]
    },
    {
      "cell_type": "code",
      "metadata": {
        "tags": [],
        "id": "CQdsrmb5UbBW",
        "colab_type": "code",
        "colab": {
          "base_uri": "https://localhost:8080/",
          "height": 34
        },
        "outputId": "fcb55dc2-6230-4642-fac2-c42f995794e4"
      },
      "source": [
        "# dados_brutos = np.fromfile('./dataAll.txt')\n",
        "dados_brutos = np.fromfile('/content/drive/My Drive/Colab Notebooks/dataAll.txt')\n",
        "print(dados_brutos)"
      ],
      "execution_count": 117,
      "outputs": [
        {
          "output_type": "stream",
          "text": [
            "[-363.7884  244.1423    0.     ... -140.147   734.0983    0.    ]\n"
          ],
          "name": "stdout"
        }
      ]
    },
    {
      "cell_type": "markdown",
      "metadata": {
        "id": "xUUaCOb8UbBZ",
        "colab_type": "text"
      },
      "source": [
        "## Organização dos dados\n",
        "Como os dados estão em um vetor único gigante, devemos remoldá-lo para podermos manipulá-lo.  \n",
        "Usando o *reshape* e o *transpose*, os dados foram reconstruídos para que o x, y e resultado caibam em vetores diferentes.  \n",
        "  \n",
        "Aqui, temos:\n",
        "* Vetor1: Contém elementos X da tupla\n",
        "* Vetor2: Contém elementos Y da tupla\n",
        "* Vetor_resposta: Contém elementos *Resposta* da tupla\n",
        "* x0: É um termo único adicionado, descrito no modelo de neurônio perceptron de Rosenblatt"
      ]
    },
    {
      "cell_type": "code",
      "metadata": {
        "tags": [],
        "id": "wzVrW_F6UbBa",
        "colab_type": "code",
        "colab": {}
      },
      "source": [
        "dados_consertados = dados_brutos.reshape((1000,3))\n",
        "dados = dados_consertados.transpose()\n",
        "\n",
        "vetor1 = np.array(dados[0])\n",
        "vetor2 = np.array(dados[1])\n",
        "vetor_resposta = np.array(dados[2])\n",
        "x0 = -1\n"
      ],
      "execution_count": 118,
      "outputs": []
    },
    {
      "cell_type": "markdown",
      "metadata": {
        "id": "v-8WlEOfUbBc",
        "colab_type": "text"
      },
      "source": [
        "## Inicialização dos pesos aleatórios\n",
        "Aqui, para fazer uma simulação boa e demonstrar que podemos chegar ao resultado final de qualquer forma, geramos 3 pesos aleatórios.  \n",
        "Os pesos foram gerados no intervalo **{-0.5, 0.5}**"
      ]
    },
    {
      "cell_type": "code",
      "metadata": {
        "tags": [],
        "id": "FEaJeww8UbBc",
        "colab_type": "code",
        "colab": {
          "base_uri": "https://localhost:8080/",
          "height": 34
        },
        "outputId": "bd8b8d39-effc-4a26-95d3-2de343ed1005"
      },
      "source": [
        "pesos = np.random.uniform(-0.5, 0.5, 3)\n",
        "\n",
        "for i in range (len(pesos)):\n",
        "  pesos[i] = round(pesos[i], 4)\n",
        "\n",
        "print(\"Pesos iniciais: \", pesos)"
      ],
      "execution_count": 119,
      "outputs": [
        {
          "output_type": "stream",
          "text": [
            "Pesos iniciais:  [ 0.0265 -0.341  -0.4816]\n"
          ],
          "name": "stdout"
        }
      ]
    },
    {
      "cell_type": "markdown",
      "metadata": {
        "id": "468zcU2OUbBf",
        "colab_type": "text"
      },
      "source": [
        "## Função de ativação\n",
        "Aqui temos a função de ativação que será usada para validar as respostas do aprendizado.  \n",
        "A função usada foi a função de ativação degrau, com v = 0.  \n",
        "Ou seja, quando a entrada é 0 ou maior, é 1, caso contrário é 0."
      ]
    },
    {
      "cell_type": "code",
      "metadata": {
        "id": "HYlMblFTUbBf",
        "colab_type": "code",
        "colab": {}
      },
      "source": [
        "#Função de ativação tipo degrau, com v = 0\n",
        "def funcao_ativacao(saida):\n",
        "  if saida >= 0:\n",
        "    return 1\n",
        "  else:\n",
        "    return 0\n",
        "        "
      ],
      "execution_count": 120,
      "outputs": []
    },
    {
      "cell_type": "markdown",
      "metadata": {
        "id": "MpPSwaCaUbBh",
        "colab_type": "text"
      },
      "source": [
        "## Principal - Aprendizado\n",
        "Aqui temos a parte principal desta parte 1, o código de aprendizagem dos pesos.  \n",
        "O código irá ser executado e verificará a função de ativação e a resposta final, ajustando os pesos quando necessário.  \n",
        "Além disso, o código irá contar quantas vezes os pesos foram ajustados e o número total de épocas.  \n",
        "No final, ele irá *imprimir* os **ajustes feitos**, o **número de épocas** e o **número de ajustes feitos**.\n",
        "  \n",
        "Nós temos:  \n",
        "* n: A taxa de Aprendizado.  \n",
        "* epoca: Um ciclo de aprendizagem, um ciclo acaba quando todos os pesos visitados 1 vez(modificado ou não).  \n",
        "* mudanca_peso: Quantas vezes o peso foi ajustado em uma época.  \n",
        "* mudanca_total: Quantas vezes, ao total, o peso foi ajustado.  \n",
        "\n",
        "Para parar, o código verificará todo final de época se houve convergência.  \n",
        "Para convergir, o vetor das funções de ativação deve ser igual ao vetor resultado"
      ]
    },
    {
      "cell_type": "code",
      "metadata": {
        "tags": [],
        "id": "q2df2QWjUbBi",
        "colab_type": "code",
        "colab": {
          "base_uri": "https://localhost:8080/",
          "height": 323
        },
        "outputId": "1cf80ae4-0acc-42df-a168-40443e630d68"
      },
      "source": [
        "#Temporários\n",
        "res_temp = 0                    # Int temporário que vai guardar o res para funcao de ativacao\n",
        "vetor_final = np.empty(1000)    # Vetor que será comparado com o resultado\n",
        "fa = 0                          # Funcao de ativacao\n",
        "\n",
        "#Pontos de Interesse\n",
        "n = 0.1             # Taxa de aprendizado\n",
        "mudanca_peso = 0    # N de ajustes de peso\n",
        "mudanca_total = 0   # N total de ajustes de peso\n",
        "epoca = 0           # Epocas de ajuste\n",
        "\n",
        "#Ele só para quando o vetor de respostas for igual ao vetor final\n",
        "while(True):\n",
        "  flag = False\n",
        "  epoca += 1\n",
        "  print(\"Época {}:\".format(epoca))\n",
        "  for i in range(len(dados[0])):\n",
        "    vetor_res_temp = round((x0*pesos[0]) + (vetor1[i]*pesos[1]) + (vetor2[i]*pesos[2]), 4)\n",
        "    fa = funcao_ativacao(vetor_res_temp)\n",
        "    vetor_final[i] = fa\n",
        "\n",
        "    if (fa != vetor_resposta[i]): #Se estiver errado\n",
        "      #Erro é (esperado - funcao ativacao)\n",
        "      erro = vetor_resposta[i] - fa\n",
        "\n",
        "      valor_anterior = np.array([x0, vetor1[i], vetor2[i]])\n",
        "      #Ajuste de peso\n",
        "      pesos = pesos + (n*erro*valor_anterior)\n",
        "      mudanca_peso += 1\n",
        "\n",
        "      for elem in range (len(pesos)):\n",
        "        pesos[elem] = round(pesos[elem], 4)\n",
        "\n",
        "      #Print vetor de pesos, exerc 5\n",
        "      print(\" Novo vetor de pesos da epoca {}: {}\".format(epoca, pesos))\n",
        "\n",
        "  #Print dos pesos da época\n",
        "  print(\" Na época {} houve {} pesos mudados\".format(epoca, mudanca_peso))\n",
        "  mudanca_total += mudanca_peso\n",
        "  mudanca_peso = 0\n",
        "\n",
        "  if((vetor_resposta == vetor_final).all()):\n",
        "      break\n",
        "\n",
        "print(\"\\nCONVERGIU!\")"
      ],
      "execution_count": 121,
      "outputs": [
        {
          "output_type": "stream",
          "text": [
            "Época 1:\n",
            " Novo vetor de pesos da epoca 1: [  0.1265  36.0378 -24.8958]\n",
            " Novo vetor de pesos da epoca 1: [   0.2265  -17.6213 -101.3916]\n",
            " Novo vetor de pesos da epoca 1: [  0.1265  55.1747 -65.562 ]\n",
            " Novo vetor de pesos da epoca 1: [2.650000e-02 1.377734e+02 1.429380e+01]\n",
            " Novo vetor de pesos da epoca 1: [ 1.265000e-01  1.436192e+02 -6.400080e+01]\n",
            " Novo vetor de pesos da epoca 1: [   0.2265  103.6103 -141.8935]\n",
            " Novo vetor de pesos da epoca 1: [  0.3265 157.2801 -92.8012]\n",
            " Novo vetor de pesos da epoca 1: [   0.2265  104.32   -149.6707]\n",
            " Novo vetor de pesos da epoca 1: [  0.3265 163.8795 -99.5484]\n",
            " Novo vetor de pesos da epoca 1: [   0.2265  118.3549 -165.1843]\n",
            " Novo vetor de pesos da epoca 1: [  0.3265 209.0708 -90.471 ]\n",
            " Novo vetor de pesos da epoca 1: [   0.2265  151.2898 -150.7792]\n",
            " Na época 1 houve 12 pesos mudados\n",
            "Época 2:\n",
            " Na época 2 houve 0 pesos mudados\n",
            "\n",
            "CONVERGIU!\n"
          ],
          "name": "stdout"
        }
      ]
    },
    {
      "cell_type": "markdown",
      "metadata": {
        "id": "CeODh6TcUbBm",
        "colab_type": "text"
      },
      "source": [
        "## Cálculo da função da reta\n",
        "Depois de se ter calculado os pesos e havido a convergência, nós podemos encontrar a curva que descreve a divisão dos pontos.  \n",
        "  \n",
        "A curva pode ser descrita como:  \n",
        "  \n",
        "$$y = \\frac{w0}{w2} - \\frac{w1}{w2}*x$$  \n",
        "  \n",
        "Onde:\n",
        "* w0 é o peso de x0\n",
        "* w1 é o peso de x\n",
        "* w2 é o peso de y\n",
        "\n",
        "\n"
      ]
    },
    {
      "cell_type": "code",
      "metadata": {
        "tags": [],
        "id": "E-XVCn3sUbBm",
        "colab_type": "code",
        "colab": {
          "base_uri": "https://localhost:8080/",
          "height": 34
        },
        "outputId": "8f01f724-b1e4-4735-91b5-09a1d6ee9184"
      },
      "source": [
        "funcao_a = pesos[0]/pesos[2]\n",
        "funcao_b = pesos[1]/pesos[2]\n",
        "\n",
        "x = np.arange(-1000,1000)\n",
        "\n",
        "y = funcao_a - funcao_b * x\n",
        "\n",
        "print(\"Função: y = ( {} ) - ( {} )*x\".format(funcao_a, funcao_b))\n"
      ],
      "execution_count": 14,
      "outputs": [
        {
          "output_type": "stream",
          "text": [
            "Função: y = ( 0.0035112707749235315 ) - ( -1.0021522802926845 )*x\n"
          ],
          "name": "stdout"
        }
      ]
    },
    {
      "cell_type": "markdown",
      "metadata": {
        "id": "AhH2jwPWUbBo",
        "colab_type": "text"
      },
      "source": [
        "## Plot do gráfico e print dos ajustes e épocas totais\n",
        "Finalmente, conseguido a função da reta, nós podemos plotar a reta junto com pontos descritos pelos dados.  \n",
        "Assim, podemos visualizar se a reta corretamente dividiu os dados.  "
      ]
    },
    {
      "cell_type": "code",
      "metadata": {
        "tags": [],
        "id": "UIlAMnIFUbBo",
        "colab_type": "code",
        "colab": {
          "base_uri": "https://localhost:8080/",
          "height": 364
        },
        "outputId": "ad06f304-351b-4cee-8053-fbf339d30146"
      },
      "source": [
        "cor = np.where(vetor_resposta == 0, \"red\", \"blue\")\n",
        "\n",
        "print(\"Total de ajustes de peso: \", mudanca_total)\n",
        "print(\"Total de épocas: \", epoca)\n",
        "\n",
        "plt.scatter(vetor1, vetor2, c=cor, label = \"Valores 0(Red)/ Valores 1(Blue)\")\n",
        "plt.plot(x, y, label = \"Reta encontrada\")\n",
        "plt.legend(loc=\"upper center\", bbox_to_anchor=(0.5, 1.24))"
      ],
      "execution_count": 15,
      "outputs": [
        {
          "output_type": "stream",
          "text": [
            "Total de ajustes de peso:  24\n",
            "Total de épocas:  2\n"
          ],
          "name": "stdout"
        },
        {
          "output_type": "execute_result",
          "data": {
            "text/plain": [
              "<matplotlib.legend.Legend at 0x7f79ebd0ec50>"
            ]
          },
          "metadata": {
            "tags": []
          },
          "execution_count": 15
        },
        {
          "output_type": "display_data",
          "data": {
            "image/png": "[encoded data removed]",
            "text/plain": [
              "<Figure size 432x288 with 1 Axes>"
            ]
          },
          "metadata": {
            "tags": [],
            "needs_background": "light"
          }
        }
      ]
    },
    {
      "cell_type": "markdown",
      "metadata": {
        "id": "B0Ut8WaDUbBq",
        "colab_type": "text"
      },
      "source": [
        "## Resultados  \n",
        "Os ajustes acima resultaram em: **24**.  \n",
        "Além disso, o número de épocas resultou em: **2**.  \n",
        "\n",
        "## Considerações finais\n",
        "Pode se ver pelo gráfico acima, que a reta dividiu satisfatoriamente os pontos de valores 0 e 1.  \n",
        "Além disso, por causa do intervalo possível de pesos iniciais, o número de ajustes e épocas podem variar bastante.\n",
        "No caso acima, os ajustes e épocas resultaram em 24 e 2 respectivamente, porém, nos testes feitos, houveram casos que o número de épocas chegou a 8 e até mesmo 13. Enquanto isso,\n",
        "o número de ajustes chegou a 80 em alguns testes.  \n",
        "Portanto, pode-se ver que, apesar dos pesos iniciais, o modelo perceptron de Rosenblatt eventualmente converge em uma reta que divide os dois conjuntos.  \n",
        "Claro, isso tudo graças ao fato que o conjunto é linearmente separável."
      ]
    }
  ]
}