{
  "nbformat": 4,
  "nbformat_minor": 0,
  "metadata": {
    "language_info": {
      "codemirror_mode": {
        "name": "ipython",
        "version": 3
      },
      "file_extension": ".py",
      "mimetype": "text/x-python",
      "name": "python",
      "nbconvert_exporter": "python",
      "pygments_lexer": "ipython3",
      "version": "3.7.4-final"
    },
    "orig_nbformat": 2,
    "kernelspec": {
      "name": "python37464bit286065bc8b1e4c1480c2b405bd71233c",
      "display_name": "Python 3.7.4 64-bit"
    },
    "colab": {
      "name": "PP2_parte1.ipynb",
      "provenance": []
    }
  },
  "cells": [
    {
      "cell_type": "markdown",
      "metadata": {
        "id": "oHfMeKICUbBQ",
        "colab_type": "text"
      },
      "source": [
        "# PP2 - Parte 1"
      ]
    },
    {
      "cell_type": "markdown",
      "metadata": {
        "id": "ivAkTUMAUbBR",
        "colab_type": "text"
      },
      "source": [
        "## Notebook do exercício prático 2, Parte 1\n",
        "\n",
        "* **UEA - Universidade do Estado do Amazonas**\n",
        "* **EST - Escola Superior de Tecnologia**\n",
        "* **Matéria de Redes Neurais**\n",
        "* **Professora Elloá Guedes**\n",
        "* **Repositório:** https://github.com/levidasilvalima/RNA-PP2\n",
        "\n",
        "### Autores\n",
        "* Ian Gustavo Alves Pessoa Silva - 1715080288  \n",
        "* William Azevedo da Silva - 1615080226  \n",
        "* Daniel Akio Chen - 1715080253  \n",
        "* Levi da Silva Lima - 1615080131  \n"
      ]
    },
    {
      "cell_type": "markdown",
      "metadata": {
        "id": "VDN3BVAsUbBS",
        "colab_type": "text"
      },
      "source": [
        "## Import das bibliotecas\n",
        "Aqui há apenas um simples import das bibliotecas a serem usadas"
      ]
    },
    {
      "cell_type": "code",
      "metadata": {
        "tags": [],
        "id": "ppBjV2ufUbBS",
        "colab_type": "code",
        "colab": {}
      },
      "source": [
        "import numpy as np\n",
        "import random\n",
        "import math\n",
        "import matplotlib.pyplot as plt\n",
        "from google.colab import drive  "
      ],
      "execution_count": 8,
      "outputs": []
    },
    {
      "cell_type": "markdown",
      "metadata": {
        "id": "6-1UQ5Zk1XKN",
        "colab_type": "text"
      },
      "source": [
        "## Montar o drive\n",
        "Para caso use o Google Colab.  \n",
        "Se não usar, comentar essa seção.  "
      ]
    },
    {
      "cell_type": "code",
      "metadata": {
        "id": "Bz7Xj1U6U3d_",
        "colab_type": "code",
        "colab": {
          "base_uri": "https://localhost:8080/",
          "height": 34
        },
        "outputId": "22d0629a-0b78-4f79-b7a1-537379cf56c7"
      },
      "source": [
        "drive.mount('/content/drive/')"
      ],
      "execution_count": 9,
      "outputs": [
        {
          "output_type": "stream",
          "text": [
            "Drive already mounted at /content/drive/; to attempt to forcibly remount, call drive.mount(\"/content/drive/\", force_remount=True).\n"
          ],
          "name": "stdout"
        }
      ]
    },
    {
      "cell_type": "markdown",
      "metadata": {
        "id": "Pl0C44iJUbBW",
        "colab_type": "text"
      },
      "source": [
        "## Import do arquivo a ser usado\n",
        "Como o próprio nome diz, é import dos dados brutos a serem usados.  \n",
        "O primeiro desses imports é para o local, o outro é para o Google Colab.\n",
        "Comentar aquele que não está sendo usado\n"
      ]
    },
    {
      "cell_type": "code",
      "metadata": {
        "tags": [],
        "id": "CQdsrmb5UbBW",
        "colab_type": "code",
        "colab": {
          "base_uri": "https://localhost:8080/",
          "height": 34
        },
        "outputId": "2fd9bf8b-dc0d-4631-ad78-02fdbf416bc2"
      },
      "source": [
        "# dados_brutos = np.fromfile('./dataAll.txt')\n",
        "\n",
        "dados_brutos = np.fromfile('/content/drive/My Drive/Colab Notebooks/dataAll.txt') \n",
        "\n",
        "print(dados_brutos)"
      ],
      "execution_count": 12,
      "outputs": [
        {
          "output_type": "stream",
          "text": [
            "[-363.7884  244.1423    0.     ... -140.147   734.0983    0.    ]\n"
          ],
          "name": "stdout"
        }
      ]
    },
    {
      "cell_type": "markdown",
      "metadata": {
        "id": "xUUaCOb8UbBZ",
        "colab_type": "text"
      },
      "source": [
        "## Organização dos dados\n",
        "Como os dados estão em um vetor único gigante, devemos remoldá-lo para podermos manipulá-lo.  \n",
        "Usando o *reshape* e o *transpose*, os dados foram reconstruídos para que o x, y e resultado caibam em vetores diferentes.  \n",
        "  \n",
        "Aqui, temos:\n",
        "* Vetor1: Contém elementos X da tupla\n",
        "* Vetor2: Contém elementos Y da tupla\n",
        "* Vetor_resposta: Contém elementos *Resposta* da tupla\n",
        "* x0: É um termo único adicionado, descrito no modelo de neurônio perceptron de Rosenblatt"
      ]
    },
    {
      "cell_type": "code",
      "metadata": {
        "tags": [],
        "id": "wzVrW_F6UbBa",
        "colab_type": "code",
        "colab": {}
      },
      "source": [
        "dados_consertados = dados_brutos.reshape((1000,3))\n",
        "dados = dados_consertados.transpose()\n",
        "\n",
        "vetor1 = np.array(dados[0])\n",
        "vetor2 = np.array(dados[1])\n",
        "vetor_resposta = np.array(dados[2])\n",
        "x0 = -1\n"
      ],
      "execution_count": 13,
      "outputs": []
    },
    {
      "cell_type": "markdown",
      "metadata": {
        "id": "v-8WlEOfUbBc",
        "colab_type": "text"
      },
      "source": [
        "## Inicialização dos pesos aleatórios\n",
        "Aqui, para fazer uma simulação boa e demonstrar que podemos chegar ao resultado final de qualquer forma, geramos 3 pesos aleatórios.  \n",
        "Os pesos foram gerados no intervalo **{-0.5, 0.5}**"
      ]
    },
    {
      "cell_type": "code",
      "metadata": {
        "tags": [],
        "id": "FEaJeww8UbBc",
        "colab_type": "code",
        "colab": {
          "base_uri": "https://localhost:8080/",
          "height": 34
        },
        "outputId": "fb75cf92-c13e-4beb-af4d-d4400989fbc3"
      },
      "source": [
        "pesos = np.random.uniform(-0.5, 0.5, 3)\n",
        "\n",
        "for i in range (len(pesos)):\n",
        "  pesos[i] = round(pesos[i], 4)\n",
        "\n",
        "print(\"Pesos iniciais: \", pesos)"
      ],
      "execution_count": 14,
      "outputs": [
        {
          "output_type": "stream",
          "text": [
            "Pesos iniciais:  [-0.1684  0.2775  0.07  ]\n"
          ],
          "name": "stdout"
        }
      ]
    },
    {
      "cell_type": "markdown",
      "metadata": {
        "id": "468zcU2OUbBf",
        "colab_type": "text"
      },
      "source": [
        "## Função de ativação\n",
        "Aqui temos a função de ativação que será usada para validar as respostas do aprendizado.  \n",
        "A função usada foi a função de ativação degrau, com v = 0.  \n",
        "Ou seja, quando a entrada é 0 ou maior, é 1, caso contrário é 0."
      ]
    },
    {
      "cell_type": "code",
      "metadata": {
        "id": "HYlMblFTUbBf",
        "colab_type": "code",
        "colab": {}
      },
      "source": [
        "#Função de ativação tipo degrau, com v = 0\n",
        "def funcao_ativacao(saida):\n",
        "  if saida >= 0:\n",
        "    return 1\n",
        "  else:\n",
        "    return 0\n",
        "        "
      ],
      "execution_count": 15,
      "outputs": []
    },
    {
      "cell_type": "markdown",
      "metadata": {
        "id": "MpPSwaCaUbBh",
        "colab_type": "text"
      },
      "source": [
        "## Principal - Aprendizado\n",
        "Aqui temos a parte principal desta parte 1, o código de aprendizagem dos pesos.  \n",
        "O código irá ser executado e verificará a função de ativação e a resposta final, ajustando os pesos quando necessário.  \n",
        "Além disso, o código irá contar quantas vezes os pesos foram ajustados e o número total de épocas.  \n",
        "No final, ele irá *imprimir* os **ajustes feitos**, o **número de épocas** e o **número de ajustes feitos**.\n",
        "  \n",
        "Nós temos:  \n",
        "* n: A taxa de Aprendizado.  \n",
        "* epoca: Um ciclo de aprendizagem, um ciclo acaba quando todos os pesos visitados 1 vez(modificado ou não).  \n",
        "* mudanca_peso: Quantas vezes o peso foi ajustado em uma época.  \n",
        "* mudanca_total: Quantas vezes, ao total, o peso foi ajustado.  \n",
        "\n",
        "Para parar, o código verificará todo final de época se houve convergência.  \n",
        "Para convergir, o vetor das funções de ativação deve ser igual ao vetor resultado"
      ]
    },
    {
      "cell_type": "code",
      "metadata": {
        "tags": [],
        "id": "q2df2QWjUbBi",
        "colab_type": "code",
        "colab": {
          "base_uri": "https://localhost:8080/",
          "height": 1000
        },
        "outputId": "4067b48a-165b-4fda-9ed1-360b25123e81"
      },
      "source": [
        "#Temporários\n",
        "res_temp = 0                    # Int temporário que vai guardar o res para funcao de ativacao\n",
        "vetor_final = np.empty(1000)    # Vetor que será comparado com o resultado\n",
        "fa = 0                          # Funcao de ativacao\n",
        "\n",
        "#Pontos de Interesse\n",
        "n = 0.1             # Taxa de aprendizado\n",
        "mudanca_peso = 0    # N de ajustes de peso\n",
        "mudanca_total = 0   # N total de ajustes de peso\n",
        "epoca = 0           # Epocas de ajuste\n",
        "\n",
        "#Ele só para quando o vetor de respostas for igual ao vetor final\n",
        "while(True):\n",
        "  flag = False\n",
        "  epoca += 1\n",
        "  print(\"Época {}:\".format(epoca))\n",
        "  for i in range(len(dados[0])):\n",
        "    vetor_res_temp = round((x0*pesos[0]) + (vetor1[i]*pesos[1]) + (vetor2[i]*pesos[2]), 4)\n",
        "    fa = funcao_ativacao(vetor_res_temp)\n",
        "    vetor_final[i] = fa\n",
        "\n",
        "    if (fa != vetor_resposta[i]): #Se estiver errado\n",
        "      #Erro é (esperado - funcao ativacao)\n",
        "      erro = vetor_resposta[i] - fa\n",
        "\n",
        "      valor_anterior = np.array([x0, vetor1[i], vetor2[i]])\n",
        "      #Ajuste de peso\n",
        "      pesos = pesos + (n*erro*valor_anterior)\n",
        "      mudanca_peso += 1\n",
        "\n",
        "      for elem in range (len(pesos)):\n",
        "        pesos[elem] = round(pesos[elem], 4)\n",
        "\n",
        "\n",
        "      #Print vetor de pesos, exerc 5\n",
        "      print(\" Novo vetor de pesos da epoca {}: {}\".format(epoca, pesos))\n",
        "\n",
        "  #Print dos pesos da época\n",
        "  print(\" Na época {} houve {} pesos mudados\".format(epoca, mudanca_peso))\n",
        "  mudanca_total += mudanca_peso\n",
        "  mudanca_peso = 0\n",
        "\n",
        "  if((vetor_resposta == vetor_final).all()):\n",
        "      break\n",
        "\n",
        "print(\"\\nCONVERGIU!\")"
      ],
      "execution_count": 17,
      "outputs": [
        {
          "output_type": "stream",
          "text": [
            "Época 1:\n",
            " Novo vetor de pesos da epoca 1: [ 3.16000e-02 -1.70028e+01 -1.00840e+02]\n",
            " Novo vetor de pesos da epoca 1: [ -0.0684  55.7932 -65.0104]\n",
            " Novo vetor de pesos da epoca 1: [ -0.1684 138.3919  14.8454]\n",
            " Novo vetor de pesos da epoca 1: [-6.840000e-02  1.442377e+02 -6.344920e+01]\n",
            " Novo vetor de pesos da epoca 1: [ 3.160000e-02  1.042288e+02 -1.413419e+02]\n",
            " Novo vetor de pesos da epoca 1: [ 1.316000e-01  1.578986e+02 -9.224960e+01]\n",
            " Novo vetor de pesos da epoca 1: [ 3.160000e-02  1.049385e+02 -1.491191e+02]\n",
            " Novo vetor de pesos da epoca 1: [ 1.31600e-01  1.64498e+02 -9.89968e+01]\n",
            " Novo vetor de pesos da epoca 1: [ 3.160000e-02  1.189734e+02 -1.646327e+02]\n",
            " Novo vetor de pesos da epoca 1: [ 1.316000e-01  2.096893e+02 -8.991940e+01]\n",
            " Novo vetor de pesos da epoca 1: [ 3.160000e-02  1.519083e+02 -1.502276e+02]\n",
            " Novo vetor de pesos da epoca 1: [-6.840000e-02  1.036417e+02 -1.986973e+02]\n",
            " Novo vetor de pesos da epoca 1: [-1.68400e-01  1.74089e+02 -1.56581e+02]\n",
            " Novo vetor de pesos da epoca 1: [  -0.2684  127.247  -207.9909]\n",
            " Novo vetor de pesos da epoca 1: [  -0.3684  197.1106 -143.772 ]\n",
            " Novo vetor de pesos da epoca 1: [  -0.2684  141.2749 -199.9495]\n",
            " Novo vetor de pesos da epoca 1: [  -0.3684  218.2624 -135.1002]\n",
            " Novo vetor de pesos da epoca 1: [  -0.4684  181.9924 -178.3282]\n",
            " Novo vetor de pesos da epoca 1: [  -0.3684  163.7533 -196.6618]\n",
            " Novo vetor de pesos da epoca 1: [  -0.4684  239.1757 -130.6067]\n",
            " Novo vetor de pesos da epoca 1: [  -0.5684  174.8166 -213.0291]\n",
            " Novo vetor de pesos da epoca 1: [  -0.4684  266.1248 -129.7583]\n",
            " Novo vetor de pesos da epoca 1: [  -0.5684  219.08   -217.6622]\n",
            " Na época 1 houve 23 pesos mudados\n",
            "Época 2:\n",
            " Novo vetor de pesos da epoca 2: [  -0.6684  170.8134 -266.1319]\n",
            " Novo vetor de pesos da epoca 2: [  -0.7684  240.677  -201.913 ]\n",
            " Novo vetor de pesos da epoca 2: [  -0.6684  184.8413 -258.0905]\n",
            " Novo vetor de pesos da epoca 2: [  -0.7684  261.8288 -193.2412]\n",
            " Novo vetor de pesos da epoca 2: [  -0.8684  225.5588 -236.4692]\n",
            " Novo vetor de pesos da epoca 2: [  -0.9684  308.4507 -153.6877]\n",
            " Novo vetor de pesos da epoca 2: [  -1.0684  262.3033 -210.3371]\n",
            " Novo vetor de pesos da epoca 2: [  -0.9684  235.6777 -242.8595]\n",
            " Novo vetor de pesos da epoca 2: [  -1.0684  282.7021 -196.3053]\n",
            " Novo vetor de pesos da epoca 2: [  -1.1684  252.818  -229.4146]\n",
            " Novo vetor de pesos da epoca 2: [  -1.0684  234.5789 -247.7482]\n",
            " Novo vetor de pesos da epoca 2: [  -0.9684  265.8858 -217.1199]\n",
            " Novo vetor de pesos da epoca 2: [  -0.8684  190.3319 -294.4428]\n",
            " Novo vetor de pesos da epoca 2: [  -0.7684  259.3078 -229.6519]\n",
            " Novo vetor de pesos da epoca 2: [  -0.6684  163.4962 -327.5336]\n",
            " Novo vetor de pesos da epoca 2: [  -0.7684  244.6699 -276.1857]\n",
            " Novo vetor de pesos da epoca 2: [  -0.6684  344.1377 -184.2961]\n",
            " Novo vetor de pesos da epoca 2: [  -0.7684  285.4328 -276.6334]\n",
            " Novo vetor de pesos da epoca 2: [  -0.6684  241.5747 -321.1724]\n",
            " Novo vetor de pesos da epoca 2: [  -0.7684  328.8178 -254.2605]\n",
            " Na época 2 houve 20 pesos mudados\n",
            "Época 3:\n",
            " Novo vetor de pesos da epoca 3: [  -0.6684  297.3948 -288.6442]\n",
            " Novo vetor de pesos da epoca 3: [  -0.7684  247.485  -339.9046]\n",
            " Novo vetor de pesos da epoca 3: [  -0.8684  274.9486 -319.0482]\n",
            " Novo vetor de pesos da epoca 3: [  -0.7684  324.4094 -270.1542]\n",
            " Novo vetor de pesos da epoca 3: [  -0.6684  296.2019 -303.7383]\n",
            " Novo vetor de pesos da epoca 3: [  -0.5684  383.3367 -217.0485]\n",
            " Novo vetor de pesos da epoca 3: [  -0.4684  331.4214 -273.2495]\n",
            " Novo vetor de pesos da epoca 3: [  -0.3684  266.5354 -347.8656]\n",
            " Novo vetor de pesos da epoca 3: [  -0.4684  356.2442 -268.8569]\n",
            " Novo vetor de pesos da epoca 3: [  -0.5684  278.7812 -366.8446]\n",
            " Novo vetor de pesos da epoca 3: [  -0.6684  323.6865 -323.4407]\n",
            " Na época 3 houve 11 pesos mudados\n",
            "Época 4:\n",
            " Na época 4 houve 0 pesos mudados\n",
            "\n",
            "CONVERGIU!\n"
          ],
          "name": "stdout"
        }
      ]
    },
    {
      "cell_type": "markdown",
      "metadata": {
        "id": "CeODh6TcUbBm",
        "colab_type": "text"
      },
      "source": [
        "## Cálculo da função da reta\n",
        "Depois de se ter calculado os pesos e havido a convergência, nós podemos encontrar a curva que descreve a divisão dos pontos.  \n",
        "  \n",
        "A curva pode ser descrita como:  \n",
        "  \n",
        "$$y = \\frac{w0}{w2} - \\frac{w1}{w2}*x$$  \n",
        "  \n",
        "Onde:\n",
        "* w0 é o peso de x0\n",
        "* w1 é o peso de x\n",
        "* w2 é o peso de y\n",
        "\n",
        "\n"
      ]
    },
    {
      "cell_type": "code",
      "metadata": {
        "tags": [],
        "id": "E-XVCn3sUbBm",
        "colab_type": "code",
        "colab": {
          "base_uri": "https://localhost:8080/",
          "height": 34
        },
        "outputId": "2351657e-8c17-4c52-c91b-93f178fac140"
      },
      "source": [
        "funcao_a = round(pesos[0]/pesos[2], 4)\n",
        "funcao_b = round(pesos[1]/pesos[2], 4)\n",
        "\n",
        "x = np.arange(-1000,1000)\n",
        "\n",
        "y = funcao_a - funcao_b * x\n",
        "\n",
        "print(\"Função: y = ( {} ) - ( {} )*x\".format(funcao_a, funcao_b))\n"
      ],
      "execution_count": 18,
      "outputs": [
        {
          "output_type": "stream",
          "text": [
            "Função: y = ( 0.0021 ) - ( -1.0008 )*x\n"
          ],
          "name": "stdout"
        }
      ]
    },
    {
      "cell_type": "markdown",
      "metadata": {
        "id": "AhH2jwPWUbBo",
        "colab_type": "text"
      },
      "source": [
        "## Plot do gráfico e print dos ajustes e épocas totais\n",
        "Finalmente, conseguido a função da reta, nós podemos plotar a reta junto com pontos descritos pelos dados.  \n",
        "Assim, podemos visualizar se a reta corretamente dividiu os dados.  "
      ]
    },
    {
      "cell_type": "code",
      "metadata": {
        "tags": [],
        "id": "UIlAMnIFUbBo",
        "colab_type": "code",
        "colab": {
          "base_uri": "https://localhost:8080/",
          "height": 364
        },
        "outputId": "e16b4fd5-ef60-43df-b1d6-912e0a919e4f"
      },
      "source": [
        "# cor = np.where(vetor_resposta == 0, \"red\", \"blue\")\n",
        "pontosAzul = np.zeros([2, len(vetor_resposta)])\n",
        "pontosVermelho = np.zeros([2, len(vetor_resposta)])\n",
        "\n",
        "for index in range (len(vetor_resposta)):\n",
        "  if vetor_resposta[index] == 0:\n",
        "    pontosVermelho[0][index] = vetor1[index]\n",
        "    pontosVermelho[1][index] = vetor2[index]\n",
        "  else:\n",
        "    pontosAzul[0][index] = vetor1[index]\n",
        "    pontosAzul[1][index] = vetor2[index]\n",
        "\n",
        "\n",
        "print(\"Total de ajustes de peso: \", mudanca_total)\n",
        "print(\"Total de épocas: \", epoca)\n",
        "\n",
        "plt.scatter(pontosVermelho[0], pontosVermelho[1], c=\"red\", label = \"Valores 0(Red)\")\n",
        "plt.scatter(pontosAzul[0], pontosAzul[1], c=\"blue\", label = \"Valores 1(Blue)\")\n",
        "plt.plot(x, y, label = \"Reta encontrada  y = {} - ({}) * x\".format(funcao_a, funcao_b))\n",
        "plt.legend(loc=\"upper center\", bbox_to_anchor=(0.5, 1.24))"
      ],
      "execution_count": 19,
      "outputs": [
        {
          "output_type": "stream",
          "text": [
            "Total de ajustes de peso:  54\n",
            "Total de épocas:  4\n"
          ],
          "name": "stdout"
        },
        {
          "output_type": "execute_result",
          "data": {
            "text/plain": [
              "<matplotlib.legend.Legend at 0x7fce4d9b6b00>"
            ]
          },
          "metadata": {
            "tags": []
          },
          "execution_count": 19
        },
        {
          "output_type": "display_data",
          "data": {
            "image/png": "[encoded data removed]",
            "text/plain": [
              "<Figure size 432x288 with 1 Axes>"
            ]
          },
          "metadata": {
            "tags": [],
            "needs_background": "light"
          }
        }
      ]
    },
    {
      "cell_type": "markdown",
      "metadata": {
        "id": "B0Ut8WaDUbBq",
        "colab_type": "text"
      },
      "source": [
        "## Resultados  \n",
        "Os ajustes acima resultaram em: **54**.  \n",
        "Além disso, o número de épocas resultou em: **4**.  \n",
        "\n",
        "## Considerações finais\n",
        "Pode se ver pelo gráfico acima, que a reta dividiu satisfatoriamente os pontos de valores 0 e 1.  \n",
        "Além disso, por causa do intervalo possível de pesos iniciais, o número de ajustes e épocas podem variar bastante.\n",
        "No caso acima, os ajustes e épocas resultaram em 54 e 4 respectivamente, porém, nos testes feitos, houveram casos que o número de épocas chegou a 8 e até mesmo 13. Enquanto isso,\n",
        "o número de ajustes chegou a 80 em alguns testes.  \n",
        "Portanto, pode-se ver que, apesar dos pesos iniciais aleatórios, o modelo perceptron de Rosenblatt eventualmente converge em uma reta que divide os dois conjuntos.  \n",
        "Claro, isso tudo graças ao fato que o conjunto é linearmente separável."
      ]
    }
  ]
}