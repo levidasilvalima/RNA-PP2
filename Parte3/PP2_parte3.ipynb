{
  "nbformat": 4,
  "nbformat_minor": 0,
  "metadata": {
    "language_info": {
      "codemirror_mode": {
        "name": "ipython",
        "version": 3
      },
      "file_extension": ".py",
      "mimetype": "text/x-python",
      "name": "python",
      "nbconvert_exporter": "python",
      "pygments_lexer": "ipython3",
      "version": "3.7.4-final"
    },
    "orig_nbformat": 2,
    "kernelspec": {
      "name": "python37464bit286065bc8b1e4c1480c2b405bd71233c",
      "display_name": "Python 3.7.4 64-bit"
    },
    "colab": {
      "name": "PP2_parte3.ipynb",
      "provenance": [],
      "collapsed_sections": [
        "ivAkTUMAUbBR",
        "B0Ut8WaDUbBq"
      ]
    }
  },
  "cells": [
    {
      "cell_type": "markdown",
      "metadata": {
        "id": "oHfMeKICUbBQ",
        "colab_type": "text"
      },
      "source": [
        "# PP2 - Parte 3"
      ]
    },
    {
      "cell_type": "markdown",
      "metadata": {
        "id": "ivAkTUMAUbBR",
        "colab_type": "text"
      },
      "source": [
        "## Notebook do exercício prático 2, Parte 3\n",
        "\n",
        "* **UEA - Universidade do Estado do Amazonas**\n",
        "* **EST - Escola Superior de Tecnologia**\n",
        "* **Matéria de Redes Neurais**\n",
        "* **Professora Elloá Guedes**\n",
        "* **Repositório:** https://github.com/levidasilvalima/RNA-PP2\n",
        "\n",
        "### Autores\n",
        "* Ian Gustavo Alves Pessoa Silva - 1715080288  \n",
        "* William Azevedo da Silva - 1615080226  \n",
        "* Daniel Akio Chen - 1715080253  \n",
        "* Levi da Silva Lima - 1615080131  \n"
      ]
    },
    {
      "cell_type": "markdown",
      "metadata": {
        "id": "VDN3BVAsUbBS",
        "colab_type": "text"
      },
      "source": [
        "## Import das bibliotecas\n",
        "Aqui há apenas um simples import das bibliotecas a serem usadas"
      ]
    },
    {
      "cell_type": "code",
      "metadata": {
        "tags": [],
        "id": "ppBjV2ufUbBS",
        "colab_type": "code",
        "colab": {}
      },
      "source": [
        "import numpy as np\n",
        "import random\n",
        "import math\n",
        "import matplotlib.pyplot as plt\n",
        "from google.colab import drive  "
      ],
      "execution_count": 68,
      "outputs": []
    },
    {
      "cell_type": "markdown",
      "metadata": {
        "id": "6-1UQ5Zk1XKN",
        "colab_type": "text"
      },
      "source": [
        "## Montar o drive\n",
        "Para caso use o Google Colab.  \n",
        "Se não usar, comentar essa seção.  "
      ]
    },
    {
      "cell_type": "code",
      "metadata": {
        "id": "Bz7Xj1U6U3d_",
        "colab_type": "code",
        "colab": {
          "base_uri": "https://localhost:8080/",
          "height": 34
        },
        "outputId": "5607e0eb-4f5e-4b56-ecbe-2541ba7be388"
      },
      "source": [
        "drive.mount('/content/drive/')"
      ],
      "execution_count": 69,
      "outputs": [
        {
          "output_type": "stream",
          "text": [
            "Drive already mounted at /content/drive/; to attempt to forcibly remount, call drive.mount(\"/content/drive/\", force_remount=True).\n"
          ],
          "name": "stdout"
        }
      ]
    },
    {
      "cell_type": "markdown",
      "metadata": {
        "id": "Pl0C44iJUbBW",
        "colab_type": "text"
      },
      "source": [
        "## Import do arquivo a ser usado\n",
        "Como o próprio nome diz, é import dos dados brutos a serem usados.  \n",
        "O primeiro desses imports é para o local, o outro é para o Google Colab.\n",
        "Comentar aquele que não está sendo usado\n"
      ]
    },
    {
      "cell_type": "code",
      "metadata": {
        "tags": [],
        "id": "CQdsrmb5UbBW",
        "colab_type": "code",
        "colab": {
          "base_uri": "https://localhost:8080/",
          "height": 51
        },
        "outputId": "26c779d1-b739-4b9e-b298-4f3ce3d1a084"
      },
      "source": [
        "# dados_brutos = np.fromfile('./dataHoldout.txt')\n",
        "\n",
        "dados_brutos = np.fromfile('/content/drive/My Drive/Colab Notebooks/dataHoldout.txt') \n",
        "\n",
        "print(dados_brutos)"
      ],
      "execution_count": 70,
      "outputs": [
        {
          "output_type": "stream",
          "text": [
            "[-0.29322959 -0.09065359  1.         ...  0.72930655  0.93224271\n",
            "  0.        ]\n"
          ],
          "name": "stdout"
        }
      ]
    },
    {
      "cell_type": "markdown",
      "metadata": {
        "id": "xUUaCOb8UbBZ",
        "colab_type": "text"
      },
      "source": [
        "## Organização dos dados\n",
        "Como os dados estão em um vetor único, devemos remoldá-lo para podermos manipulá-lo.\n",
        "\n",
        "Para a seleção aleatória dos dados, foi feito um vetor de idx (vetor_idx), contendo inteiros de 0 até a quantidade de dados menos um, no qual foi dado um shuffle aleatório, de tal forma que os 70% primeiros dados foram usados para treinamento, enquanto os 30% restante para teste. Isso resulta em 560 exemplo para treino e 240 para teste.\n",
        "\n",
        "### Dados gerais:\n",
        "Contém todos dos dados.\n",
        "* vetor_X: Contém todos elementos X da tupla, que serão usados para evidenciar que o problema não é linearmente separável \n",
        "* vetor_Y: Contém todos elementos Y da tupla, que serão usados para evidenciar que o problema não é linearmente separável\n",
        "* vetor_resposta_geral: Contém todos elementos *Resposta* da tupla, que serão usados para evidencias que o problema não é linearmente separável\n",
        "\n",
        "### Dados para o treinamento:\n",
        "Corresponde à uma parcela de 70% dos dados gerais, sendo o complemento dos dados usados para teste.\n",
        "\n",
        "* vetor1: Contém os elementos X da tupla que serão usados no treinamento\n",
        "* vetor2: Contém os elementos Y da tupla que serão usados no treinamento\n",
        "* vetor_resposta: Contém os elementos *Resposta* da tupla que serão usados no treinamento\n",
        "* vetor_idx: Contém os idx usados na separação dos dados para treino e teste\n",
        "* idx70: Uma flag para mostrar onde está 70% do vetor\n",
        "* x0: É um termo único adicionado, descrito no modelo de neurônio perceptron de Rosenblatt\n",
        "\n",
        "\n",
        "### Dados para o teste:\n",
        "Corresponde à uma parcela de 30% dos dados gerais, sendo o complemento dos dados usados no treinamento.\n",
        "\n",
        "* vetor1_teste: Contém os elementos X da tupla que serão usados para teste\n",
        "* vetor2_teste: Contém os elementos Y da tupla que serão usados para teste\n",
        "* vetor_resposta_teste: Contém os elementos *Resposta* da tupla que serão usados para teste"
      ]
    },
    {
      "cell_type": "code",
      "metadata": {
        "tags": [],
        "id": "wzVrW_F6UbBa",
        "colab_type": "code",
        "colab": {
          "base_uri": "https://localhost:8080/",
          "height": 68
        },
        "outputId": "4a083208-05ec-417c-c22d-3a96d641fd03"
      },
      "source": [
        "dados_consertados = dados_brutos.reshape((len(dados_brutos)//3,3))\n",
        "dados = dados_consertados.transpose()\n",
        "\n",
        "# Dados gerai\n",
        "vetor_X = np.array(dados[0])\n",
        "vetor_Y = np.array(dados[1])\n",
        "vetor_resposta_geral = np.array(dados[2])\n",
        "\n",
        "# Flag para mostrar onde está 70% do vetor, calculada usando regra de 3\n",
        "idx70 = (len(dados[0]) * 70) // 100\n",
        "\n",
        "# vetor de idx aleatório\n",
        "vetor_idx = np.arange(len(dados[0]))\n",
        "np.random.shuffle(vetor_idx)\n",
        "vetor_idx = np.split(vetor_idx, [idx70]) # vetor_idx[0] são os idx que serão usados no treinamento\n",
        "                                       # vetor_idx[1] são os idx que serão usados na validação\n",
        "\n",
        "# Iniciando os vetores de treinamento\n",
        "vetor1 = np.array([])\n",
        "vetor2 = np.array([])\n",
        "vetor_resposta = np.array([])\n",
        "\n",
        "for i in range(len(vetor_idx[0])):\n",
        "  vetor1 = np.insert(vetor1, len(vetor1), dados[0][vetor_idx[0][i]])\n",
        "  vetor2 = np.insert(vetor2, len(vetor2), dados[1][vetor_idx[0][i]])\n",
        "  vetor_resposta = np.insert(vetor_resposta, len(vetor_resposta), dados[2][vetor_idx[0][i]])\n",
        "\n",
        "# Iniciando os vetores de teste\n",
        "vetor1_teste = np.array([])\n",
        "vetor2_teste = np.array([])\n",
        "vetor_resposta_teste = np.array([])\n",
        " \n",
        "for i in range(len(vetor_idx[1])):\n",
        "  vetor1_teste = np.insert(vetor1_teste, len(vetor1_teste), dados[0][vetor_idx[1][i]])\n",
        "  vetor2_teste = np.insert(vetor2_teste, len(vetor2_teste), dados[1][vetor_idx[1][i]])\n",
        "  vetor_resposta_teste = np.insert(vetor_resposta_teste, len(vetor_resposta_teste), dados[2][vetor_idx[1][i]])\n",
        "\n",
        "print(\"Quantidade total de dado:\", len(dados[0]))\n",
        "print(\"Quantidade total de dado usado para treinamento:\", len(vetor1))\n",
        "print(\"Quantidade total de dado usado para teste:\", len(vetor1_teste))\n",
        "\n",
        "x0 = -1\n"
      ],
      "execution_count": 71,
      "outputs": [
        {
          "output_type": "stream",
          "text": [
            "Quantidade total de dado: 800\n",
            "Quantidade total de dado usado para treinamento: 560\n",
            "Quantidade total de dado usado para teste: 240\n"
          ],
          "name": "stdout"
        }
      ]
    },
    {
      "cell_type": "markdown",
      "metadata": {
        "id": "o8tqDJle7AGI",
        "colab_type": "text"
      },
      "source": [
        "## Evidência de que o problema não é linearmente separável\n",
        "Olhando para os pontos, visualmente podemos verificar que não se trata de um problema linearmente separável."
      ]
    },
    {
      "cell_type": "code",
      "metadata": {
        "id": "4Tb8-YXO7Dc9",
        "colab_type": "code",
        "colab": {
          "base_uri": "https://localhost:8080/",
          "height": 405
        },
        "outputId": "c5dd7a6b-41a7-42fb-ed17-accee745f668"
      },
      "source": [
        "pontosAzul = [[], []]\n",
        "pontosVermelho = [[], []]\n",
        "\n",
        "for index in range(len(vetor_resposta_geral)):\n",
        "  if (vetor_resposta_geral[index] == 0):\n",
        "    pontosVermelho[0].append(vetor_X[index])\n",
        "    pontosVermelho[1].append(vetor_Y[index])\n",
        "  else:\n",
        "    pontosAzul[0].append(vetor_X[index])\n",
        "    pontosAzul[1].append(vetor_Y[index])\n",
        "\n",
        "plt.rcParams['figure.figsize'] = (5, 5)\n",
        "plt.scatter(pontosVermelho[0], pontosVermelho[1], c=\"red\", label = \"Valores 0(Red)\")\n",
        "plt.scatter(pontosAzul[0], pontosAzul[1], c=\"blue\", label = \"Valores 1(Blue)\")\n",
        "plt.legend(loc=\"upper left\", bbox_to_anchor=(0, 1.27))\n"
      ],
      "execution_count": 72,
      "outputs": [
        {
          "output_type": "execute_result",
          "data": {
            "text/plain": [
              "<matplotlib.legend.Legend at 0x7f94c9b34ba8>"
            ]
          },
          "metadata": {
            "tags": []
          },
          "execution_count": 72
        },
        {
          "output_type": "display_data",
          "data": {
            "image/png": "[encoded data removed]",
            "text/plain": [
              "<Figure size 360x360 with 1 Axes>"
            ]
          },
          "metadata": {
            "tags": [],
            "needs_background": "light"
          }
        }
      ]
    },
    {
      "cell_type": "markdown",
      "metadata": {
        "id": "v-8WlEOfUbBc",
        "colab_type": "text"
      },
      "source": [
        "## Inicialização dos pesos aleatórios\n",
        "Aqui, para fazer uma simulação boa e demonstrar que podemos chegar ao resultado final de qualquer forma, geramos 3 pesos aleatórios.  \n",
        "Os pesos foram gerados no intervalo **{-0.5, 0.5}**"
      ]
    },
    {
      "cell_type": "code",
      "metadata": {
        "tags": [],
        "id": "FEaJeww8UbBc",
        "colab_type": "code",
        "colab": {
          "base_uri": "https://localhost:8080/",
          "height": 34
        },
        "outputId": "0f0d7c65-8e4e-4518-f871-6943dd2b4064"
      },
      "source": [
        "pesos = np.random.uniform(-0.5, 0.5, 3)\n",
        "\n",
        "for i in range (len(pesos)):\n",
        "  pesos[i] = round(pesos[i], 4)\n",
        "\n",
        "print(\"Pesos iniciais: \", pesos)"
      ],
      "execution_count": 73,
      "outputs": [
        {
          "output_type": "stream",
          "text": [
            "Pesos iniciais:  [-0.1981 -0.3946  0.4581]\n"
          ],
          "name": "stdout"
        }
      ]
    },
    {
      "cell_type": "markdown",
      "metadata": {
        "id": "468zcU2OUbBf",
        "colab_type": "text"
      },
      "source": [
        "## Função de ativação\n",
        "Aqui temos a função de ativação que será usada para validar as respostas do aprendizado.  \n",
        "A função usada foi a função de ativação degrau, com v = 0.  \n",
        "Ou seja, quando a entrada é 0 ou maior, é 1, caso contrário é 0."
      ]
    },
    {
      "cell_type": "code",
      "metadata": {
        "id": "HYlMblFTUbBf",
        "colab_type": "code",
        "colab": {}
      },
      "source": [
        "#Função de ativação tipo degrau, com v = 0\n",
        "def funcao_ativacao(saida):\n",
        "  if saida >= 0:\n",
        "    return 1\n",
        "  else:\n",
        "    return 0\n",
        "        "
      ],
      "execution_count": 74,
      "outputs": []
    },
    {
      "cell_type": "markdown",
      "metadata": {
        "id": "MpPSwaCaUbBh",
        "colab_type": "text"
      },
      "source": [
        "## Principal - Aprendizado\n",
        "Aqui temos a parte principal desta parte 1, o código de aprendizagem dos pesos.  \n",
        "O código irá ser executado e verificará a função de ativação e a resposta final, ajustando os pesos quando necessário.  \n",
        "Além disso, o código irá contar quantas vezes os pesos foram ajustados e o número total de épocas.  \n",
        "No final, ele irá *imprimir* os **ajustes feitos**, o **número de épocas** e o **número de ajustes feitos**.\n",
        "  \n",
        "Nós temos:  \n",
        "* n: A taxa de Aprendizado.  \n",
        "* epoca: Um ciclo de aprendizagem, um ciclo acaba quando todos os pesos visitados 1 vez(modificado ou não).  \n",
        "* mudanca_peso: Quantas vezes o peso foi ajustado em uma época.  \n",
        "* mudanca_total: Quantas vezes, ao total, o peso foi ajustado.  \n",
        "\n",
        "Para parar, o código verificará todo final de época se houve convergência.  \n",
        "Para convergir, o vetor das funções de ativação deve ser igual ao vetor resultado"
      ]
    },
    {
      "cell_type": "code",
      "metadata": {
        "tags": [],
        "id": "q2df2QWjUbBi",
        "colab_type": "code",
        "colab": {
          "base_uri": "https://localhost:8080/",
          "height": 85
        },
        "outputId": "dd793b14-4aa6-44cf-c61b-26baea200d3f"
      },
      "source": [
        "#Temporários\n",
        "res_temp = 0                    # Int temporário que vai guardar o res para funcao de ativacao\n",
        "vetor_final = np.empty(len(dados[0]))    # Vetor que será comparado com o resultado\n",
        "fa = 0                          # Funcao de ativacao\n",
        "\n",
        "#Pontos de Interesse\n",
        "n = 0.1             # Taxa de aprendizado\n",
        "mudanca_peso = 0    # N de ajustes de peso\n",
        "mudanca_total = 0   # N total de ajustes de peso\n",
        "epoca = 0           # Epocas de ajuste\n",
        "\n",
        "for i in range(100): \n",
        "  flag = False\n",
        "  epoca += 1\n",
        "  # print(\"Época {}:\".format(epoca))\n",
        "  for i in range(idx70):\n",
        "    vetor_res_temp = round((x0*pesos[0]) + (vetor1[i]*pesos[1]) + (vetor2[i]*pesos[2]), 4)\n",
        "    fa = funcao_ativacao(vetor_res_temp)\n",
        "    vetor_final[i] = fa\n",
        "\n",
        "    if (fa != vetor_resposta[i]): #Se estiver errado\n",
        "      #Erro é (esperado - funcao ativacao)\n",
        "      erro = vetor_resposta[i] - fa\n",
        "\n",
        "      valor_anterior = np.array([x0, vetor1[i], vetor2[i]])\n",
        "      #Ajuste de peso\n",
        "      pesos = pesos + (n*erro*valor_anterior)\n",
        "      mudanca_peso += 1\n",
        "\n",
        "      for elem in range (len(pesos)):\n",
        "        pesos[elem] = round(pesos[elem], 4)\n",
        "\n",
        "\n",
        "  #Print dos pesos da época\n",
        "  # print(\" Na época {} houve {} pesos mudados\".format(epoca, mudanca_peso))\n",
        "  mudanca_total += mudanca_peso\n",
        "  mudanca_peso = 0\n",
        "\n",
        "print(\"\\nFIM DO PROCESSAMENTO!\")\n",
        "print(\"\\nTotal: {} épocas\".format(epoca))"
      ],
      "execution_count": 75,
      "outputs": [
        {
          "output_type": "stream",
          "text": [
            "\n",
            "FIM DO PROCESSAMENTO!\n",
            "\n",
            "Total: 100\n"
          ],
          "name": "stdout"
        }
      ]
    },
    {
      "cell_type": "markdown",
      "metadata": {
        "id": "CeODh6TcUbBm",
        "colab_type": "text"
      },
      "source": [
        "## Cálculo da função da reta\n",
        "Depois de se ter calculado os pesos e havido a convergência, nós podemos encontrar a curva que descreve a divisão dos pontos.  \n",
        "  \n",
        "A curva pode ser descrita como:  \n",
        "  \n",
        "$$y = \\frac{w0}{w2} - \\frac{w1}{w2}*x$$  \n",
        "  \n",
        "Onde:\n",
        "* w0 é o peso de x0\n",
        "* w1 é o peso de x\n",
        "* w2 é o peso de y\n",
        "\n",
        "\n"
      ]
    },
    {
      "cell_type": "code",
      "metadata": {
        "tags": [],
        "id": "E-XVCn3sUbBm",
        "colab_type": "code",
        "colab": {
          "base_uri": "https://localhost:8080/",
          "height": 34
        },
        "outputId": "187800c1-d62a-4c41-f8f3-a9eda34c3067"
      },
      "source": [
        "funcao_a = round(pesos[0]/pesos[2], 4)\n",
        "funcao_b = round(pesos[1]/pesos[2], 4)\n",
        "\n",
        "x = np.arange(-1, 3)\n",
        "\n",
        "y = funcao_a - funcao_b * x\n",
        "\n",
        "print(\"Função: y = ( {} ) - ( {} )*x\".format(funcao_a, funcao_b))\n"
      ],
      "execution_count": 76,
      "outputs": [
        {
          "output_type": "stream",
          "text": [
            "Função: y = ( 0.5008 ) - ( 0.9652 )*x\n"
          ],
          "name": "stdout"
        }
      ]
    },
    {
      "cell_type": "markdown",
      "metadata": {
        "id": "SWFOBBUAVvnn",
        "colab_type": "text"
      },
      "source": [
        "* Então, a reta obtida foi:  \n",
        "  \n",
        "$$y = 0.4498 - 0.7784*x$$  "
      ]
    },
    {
      "cell_type": "markdown",
      "metadata": {
        "id": "zldekGPhO0co",
        "colab_type": "text"
      },
      "source": [
        "## Validação do modelo usando o conjunto de dados destinado para teste\n",
        "\n",
        "* **Matriz de confusão:**  \n",
        "Mostra a quantidade de acertos e erros para as previsões positivas e negativas do modelo.\n",
        "\n",
        "Algumas métricas para o auxílio:\n",
        "* **Acurácia:**\n",
        "Quantidade de acertos sobre a quantidade total.\n",
        "\n",
        "* **Precisão:**\n",
        "Precisão dos valores positivos previstos. tp / (tp + fp)\n",
        "\n",
        "* **Revocação:**\n",
        "Fração dos positivos que acertou em relação ao total de positivos.\n",
        "tp / (tp + fn)\n",
        "\n",
        "* **F-Score:**\n",
        "Média harmónica considerando a presição e a revocação. Tem foco nos resultados positivos como especialmente relevantes."
      ]
    },
    {
      "cell_type": "code",
      "metadata": {
        "id": "VfZ3Rtc1PBYu",
        "colab_type": "code",
        "colab": {
          "base_uri": "https://localhost:8080/",
          "height": 614
        },
        "outputId": "8bef0ad7-6502-444b-984e-16ac91159e23"
      },
      "source": [
        "#Temporários\n",
        "fa = 0                          # Funcao de ativacao\n",
        "erros = 0\n",
        "acertos = 0\n",
        "matriz_confusao = [[0, 0], [0, 0]]\n",
        "\n",
        "for i in range(len(vetor1_teste)):\n",
        "  vetor_res_temp = round((x0*pesos[0]) + (vetor1_teste[i]*pesos[1]) + (vetor2_teste[i]*pesos[2]), 4)\n",
        "  fa = funcao_ativacao(vetor_res_temp)\n",
        "\n",
        "  if (fa != vetor_resposta_teste[i]): #Se estiver errado\n",
        "    erros = erros + 1\n",
        "    if (fa): # Falso Positivo\n",
        "      matriz_confusao[0][1] = matriz_confusao[0][1] + 1    \n",
        "    else: # Falso Negativo\n",
        "      matriz_confusao[1][1] = matriz_confusao[1][1] + 1\n",
        "  else:\n",
        "    acertos = acertos + 1\n",
        "    if (fa): # Vedadeiro Positivo\n",
        "      matriz_confusao[0][0] = matriz_confusao[0][0] + 1\n",
        "    else: # Verdadeiro Negativo\n",
        "      matriz_confusao[1][0] = matriz_confusao[1][0] + 1\n",
        "\n",
        "columns = (\"Verdadeiro\", \"Falso\")\n",
        "rows = (\"Positivo (1)\", \"Negativo (0)\")\n",
        "\n",
        "fig = plt.figure(dpi = 80)\n",
        "ax = fig.add_subplot(1, 1, 1)\n",
        "\n",
        "table = ax.table(cellText=matriz_confusao, rowLabels=rows, colLabels=columns)\n",
        "table.set_fontsize(14)\n",
        "table.scale(1,4)\n",
        "ax.axis('off')\n",
        "\n",
        "print(\"Validação usando os dados destinados ao teste\")\n",
        "print(\"\\n\\tMatriz de confusão:\")\n",
        "plt.show()\n",
        "\n",
        "acuracia = round((matriz_confusao[0][0] + matriz_confusao[1][0]) / (matriz_confusao[0][0] + matriz_confusao[0][1] + matriz_confusao[1][1] + matriz_confusao[1][0]), 4)\n",
        "print(\"Acurácia:\", acuracia)\n",
        "\n",
        "precisao = round(matriz_confusao[0][0] / (matriz_confusao[0][0] + matriz_confusao[0][1]), 4)\n",
        "print(\"Precisão:\", precisao)\n",
        "\n",
        "revocacao = round(matriz_confusao[0][0] / (matriz_confusao[0][0] + matriz_confusao[1][1]), 4)\n",
        "print(\"Revocação:\", revocacao)\n",
        "\n",
        "fscore = round( 2 * (precisao * revocacao) / (precisao + revocacao) ,4)\n",
        "print(\"F-Score:\", fscore)"
      ],
      "execution_count": 77,
      "outputs": [
        {
          "output_type": "stream",
          "text": [
            "Validação usando os dados destinados ao teste\n",
            "\n",
            "\tMatriz de confusão:\n"
          ],
          "name": "stdout"
        },
        {
          "output_type": "display_data",
          "data": {
            "image/png": "[encoded data removed]",
            "text/plain": [
              "<Figure size 400x400 with 1 Axes>"
            ]
          },
          "metadata": {
            "tags": [],
            "needs_background": "light"
          }
        },
        {
          "output_type": "stream",
          "text": [
            "Acurácia: 0.9583\n",
            "Precisão: 0.9062\n",
            "Revocação: 0.9355\n",
            "F-Score: 0.9206\n"
          ],
          "name": "stdout"
        }
      ]
    },
    {
      "cell_type": "markdown",
      "metadata": {
        "id": "05ZVy4eITlSs",
        "colab_type": "text"
      },
      "source": [
        "Assim, pode-se ver que:  \n",
        "* **Verdadeiro Positivo:** 58\n",
        "* **Verdadeiros Negativo:** 6\n",
        "* **Falsos Positivo:** 172\n",
        "* **Falsos Negativo:** 4   \n",
        "\n",
        "Além disso:  \n",
        "* **Acurácia:** 0.9583  \n",
        "* **Precisão:** 0.9062  \n",
        "* **Revocação:** 0.9355  \n",
        "* **F-Score:** 0.9206   "
      ]
    },
    {
      "cell_type": "markdown",
      "metadata": {
        "id": "AhH2jwPWUbBo",
        "colab_type": "text"
      },
      "source": [
        "## Plot dos gráficos usando os dados de treino e de teste\n",
        "Finalmente, conseguido a função da reta, nós podemos plotar a reta junto com pontos descritos pelos dados. \n",
        "Assim, podemos visualizar como a reta dividiu os dados de treinamento e de teste. "
      ]
    },
    {
      "cell_type": "code",
      "metadata": {
        "tags": [],
        "id": "UIlAMnIFUbBo",
        "colab_type": "code",
        "colab": {
          "base_uri": "https://localhost:8080/",
          "height": 405
        },
        "outputId": "0f33bb5a-ee1a-4972-b348-67a84c8e3162"
      },
      "source": [
        "\n",
        "pontosAzul = [[[], []], [[], []]]\n",
        "pontosVermelho = [[[], []], [[], []]]\n",
        "\n",
        "for index in range(len(vetor_resposta)):\n",
        "  if (vetor_resposta[index] == 0):\n",
        "    pontosVermelho[0][0].append(vetor1[index])\n",
        "    pontosVermelho[0][1].append(vetor2[index])\n",
        "  else:\n",
        "    pontosAzul[0][0].append(vetor1[index])\n",
        "    pontosAzul[0][1].append(vetor2[index])\n",
        "\n",
        "for index in range(len(vetor_resposta_teste)):\n",
        "  if (vetor_resposta_teste[index] == 0):\n",
        "    pontosVermelho[1][0].append(vetor1_teste[index])\n",
        "    pontosVermelho[1][1].append(vetor2_teste[index])\n",
        "  else:\n",
        "    pontosAzul[1][0].append(vetor1_teste[index])\n",
        "    pontosAzul[1][1].append(vetor2_teste[index])\n",
        "\n",
        "print(\"\\tGráfico usando dados de treino\\t\\tGráfico usando dados de teste\")\n",
        "\n",
        "for i in range(2):\n",
        "  plt.rcParams['figure.figsize'] = (11,5)\n",
        "  plt.subplot(1, 2, i+1)\n",
        "  plt.scatter(pontosVermelho[i][0], pontosVermelho[i][1], c=\"red\", label = \"Valores 0(Red)\")\n",
        "  plt.scatter(pontosAzul[i][0], pontosAzul[i][1], c=\"blue\", label = \"Valores 1(Blue)\")\n",
        "  plt.plot(x, y, label = \"Reta encontrada  y = {} - ({}) * x\".format(funcao_a, funcao_b))\n",
        "  plt.legend(loc=\"upper left\", bbox_to_anchor=(0, 1.27))"
      ],
      "execution_count": 78,
      "outputs": [
        {
          "output_type": "stream",
          "text": [
            "\tGráfico usando dados de treino\t\tGráfico usando dados de teste\n"
          ],
          "name": "stdout"
        },
        {
          "output_type": "display_data",
          "data": {
            "image/png": "[encoded data removed]",
            "text/plain": [
              "<Figure size 792x360 with 2 Axes>"
            ]
          },
          "metadata": {
            "tags": [],
            "needs_background": "light"
          }
        }
      ]
    },
    {
      "cell_type": "markdown",
      "metadata": {
        "id": "B0Ut8WaDUbBq",
        "colab_type": "text"
      },
      "source": [
        "## Resultados  \n",
        "\n",
        "### Considerações sobre o uso de uma solução de um perceptron (para problemas linearmente separáveis) em um problema não linearmente separável\n",
        "Um perceptron pode gerar uma reta, ou seja, resolver problemas linearmente separáveis. Porém, nosso exemplo trata-se de um problema não linearmente separável, como foi constatado visualmente. Apesar da diferença, foi possível observar que o perceptron ainda conseguiu resultados bem elevados nas métricas, isso por conta de os dados serem dispostos de tal forma que a parte de um conjunto que ultrapaça a fronteira do outro ser pequena, fazendo com que o modelo achado cometa erros mas que sejam poucos. \n",
        "\n",
        "Como se trata de uma distribuição aleatória para treino e teste, toda vez que rodamos o projeto, obtivemos valores diferentes nas métricas. Porém, podemos notar que as métricas se mativeram sempre \"boas\" em todas as vezes que foi feito testes. A acurácia, precisão revocação a sempre ficaram acima de 0,95, enquanto o F-score mateve-se próximo de 0.92.\n",
        "\n",
        "### Comparação das métricas de avaliação sobre os dados de treino e de teste (Bônus)\n",
        "Comparando o resultado das métricas quando usamos os dados de treino e de teste (dados disjuntos), podemos observar que quando consideramos os dados de treino, as métricas são levemente superiores. Apesar de superiores, são ilusórias pois seu cálculo ocorre com base em dados que o modelo foi treinado, ou seja, em um exemplo real, como é exemplificado nos dados de testes, o modelo trabalha com dados que não viu anteriormente. \n"
      ]
    }
  ]
}