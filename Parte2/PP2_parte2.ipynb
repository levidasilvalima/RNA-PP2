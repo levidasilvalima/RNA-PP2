{
 "metadata": {
  "language_info": {
   "codemirror_mode": {
    "name": "ipython",
    "version": 3
   },
   "file_extension": ".py",
   "mimetype": "text/x-python",
   "name": "python",
   "nbconvert_exporter": "python",
   "pygments_lexer": "ipython3",
   "version": "3.7.4-final"
  },
  "orig_nbformat": 2,
  "kernelspec": {
   "name": "python37464bit286065bc8b1e4c1480c2b405bd71233c",
   "display_name": "Python 3.7.4 64-bit"
  }
 },
 "nbformat": 4,
 "nbformat_minor": 2,
 "cells": [
  {
   "cell_type": "markdown",
   "metadata": {},
   "source": [
    "# PP2 - Parte 2"
   ]
  },
  {
   "cell_type": "markdown",
   "metadata": {},
   "source": [
    "## Notebook do exercício prático 2, Parte 2\n",
    "\n",
    "* **UEA - Universidade do Estado do Amazonas**\n",
    "* **EST - Escola Superior de Tecnologia**\n",
    "* **Matéria de Redes Neurais**\n",
    "* **Professora Elloá Guedes**\n",
    "* **Repositório:** https://github.com/levidasilvalima/RNA-PP2\n",
    "\n",
    "### Autores\n",
    "* Ian Gustavo Alves Pessoa Silva - 1715080288  \n",
    "* William Azevedo da Silva - 1615080226  \n",
    "* Daniel Akio Chen - 1715080253  \n",
    "* Levi da Silva Lima - 1615080131"
   ]
  },
  {
   "cell_type": "markdown",
   "metadata": {},
   "source": [
    "## Import das bibliotecas"
   ]
  },
  {
   "cell_type": "code",
   "execution_count": 1,
   "metadata": {
    "tags": []
   },
   "outputs": [],
   "source": [
    "import numpy as np\n",
    "import random\n",
    "import math\n",
    "import matplotlib.pyplot as plt"
   ]
  },
  {
   "cell_type": "markdown",
   "metadata": {},
   "source": [
    "## Import do arquivo a ser usado"
   ]
  },
  {
   "cell_type": "code",
   "execution_count": 2,
   "metadata": {
    "tags": []
   },
   "outputs": [],
   "source": [
    "dados_brutos = np.fromfile('./data2.txt')\n"
   ]
  },
  {
   "cell_type": "markdown",
   "metadata": {},
   "source": [
    "## Organização dos dados"
   ]
  },
  {
   "cell_type": "code",
   "execution_count": 3,
   "metadata": {
    "tags": []
   },
   "outputs": [],
   "source": [
    "dados = dados_brutos.reshape((600,3))\n",
    "dados = dados.transpose()\n",
    "\n",
    "vetor1 = np.array(dados[0])\n",
    "vetor2 = np.array(dados[1])\n",
    "vetor_resposta = np.array(dados[2])\n",
    "x0 = -1\n"
   ]
  },
  {
   "cell_type": "markdown",
   "metadata": {},
   "source": [
    "## Inicialização das configurações a serem usadas"
   ]
  },
  {
   "cell_type": "code",
   "execution_count": 4,
   "metadata": {
    "tags": []
   },
   "outputs": [
    {
     "output_type": "stream",
     "name": "stdout",
     "text": "Configurações:  [[-4.e+01  4.e+01]\n [-1.e+01  1.e+01]\n [-1.e+00  1.e+00]\n [-4.e-01  4.e-01]\n [-1.e-01  1.e-01]\n [-1.e-02  1.e-02]\n [-2.e-01  2.e-01]\n [-5.e-02  5.e-02]\n [-5.e-03  5.e-03]]\n"
    }
   ],
   "source": [
    "# Distribuição uniforme aleatório dos pesos,\n",
    "# Produto cartesiano a ser feito\n",
    "pes = np.array([0.4, 0.1, 0.01])\n",
    "aleatorio = np.array([[-100,100], [-1, 1], [-0.5, 0.5]])\n",
    "\n",
    "# Vetores vazios que serão adicionados\n",
    "configuracoes = np.array([]).reshape(0, 2)\n",
    "vetor_peso = np.empty([9, 3])\n",
    "\n",
    "for i in range(3):\n",
    "    for j in range(3):\n",
    "        config = aleatorio[i] * pes[j] # Produto cartesiano\n",
    "        # print(config)\n",
    "\n",
    "        # Adicionar ao vetor de configurações possíveis\n",
    "        configuracoes = np.vstack((configuracoes, config))\n",
    "\n",
    "        #Adicionar ao vetor de pesos aleatórios\n",
    "        # vetor_peso = np.vstack((vetor_peso, np.random.uniform(config[0], config[1], 3)))\n",
    "\n",
    "print(\"Configurações: \", configuracoes)\n",
    "# print(\"Pesos: \", vetor_peso)"
   ]
  },
  {
   "cell_type": "markdown",
   "metadata": {},
   "source": [
    "## Função de ativação"
   ]
  },
  {
   "cell_type": "code",
   "execution_count": 5,
   "metadata": {},
   "outputs": [],
   "source": [
    "#Função de ativação tipo degrau, com v = 0\n",
    "def funcao_ativacao(saida):\n",
    "    if saida >= 0:\n",
    "        return 1\n",
    "    else:\n",
    "        return 0\n",
    "        "
   ]
  },
  {
   "cell_type": "markdown",
   "metadata": {},
   "source": [
    "## Principal - Aprendizado"
   ]
  },
  {
   "cell_type": "code",
   "execution_count": 6,
   "metadata": {
    "tags": []
   },
   "outputs": [
    {
     "output_type": "stream",
     "name": "stdout",
     "text": "acabou!\n"
    }
   ],
   "source": [
    "res_temp = 0                                          # Int temporário que vai guardar o res para funcao de ativacao\n",
    "vetor_final = np.empty(600)                           # Vetor que será comparado com o resultado\n",
    "\n",
    "n = 0.1                                               # Taxa de aprendizado\n",
    "mudanca_peso = 0                                      # N de ajustes de peso\n",
    "mudanca_total = 0                                     # N total de ajustes de peso\n",
    "epoca = 0                                             # Epocas de ajuste\n",
    "\n",
    "vetor_epoca = np.zeros([9, 100], dtype=int)           # Vetor das epocas\n",
    "vetor_mudanca_peso = np.zeros([9, 100], dtype=int)    # Vetor dos ajustes totais\n",
    "\n",
    "fa = 0              # Funcao de ativacao\n",
    "\n",
    "# No caso do pp2, vai repetir 9 vezes\n",
    "for possibilidades in range(len(configuracoes)):\n",
    "\n",
    "    #Repetir 100 vezes para gerar dados\n",
    "    for instancia in range(100):\n",
    "\n",
    "        vetor_peso[possibilidades] = np.random.uniform(configuracoes[possibilidades][0], configuracoes[possibilidades][1], 3) \n",
    "\n",
    "        #Ele só para quando o vetor de respostas for igual ao vetor final\n",
    "        while(True):\n",
    "\n",
    "            #Repetir pela quantidade de vezes que tiver nos dados\n",
    "            for i in range(len(dados[0])):\n",
    "\n",
    "                # Soma dos produtos\n",
    "                vetor_res_temp = (x0 * vetor_peso[possibilidades][0]) + (vetor1[i] * vetor_peso[possibilidades][1]) + (vetor2[i] * vetor_peso[possibilidades][2])\n",
    "\n",
    "                # funcao de ativacao\n",
    "                fa = funcao_ativacao(vetor_res_temp)\n",
    "\n",
    "                vetor_final[i] = fa\n",
    "\n",
    "                if (fa != vetor_resposta[i]): #Se estiver errado\n",
    "\n",
    "                    #Erro é (esperado - funcao ativacao)\n",
    "                    erro = vetor_resposta[i] - fa\n",
    "\n",
    "                    valor_anterior = np.array([x0, vetor1[i], vetor2[i]])\n",
    "                    #Ajuste de peso\n",
    "                    vetor_peso[possibilidades] = vetor_peso[possibilidades] + (n*erro*valor_anterior)\n",
    "\n",
    "                    #Adicionar quantidade de mudanças totais\n",
    "                    vetor_mudanca_peso[possibilidades][instancia] += 1\n",
    "\n",
    "            #Adicionar quantas epocas houveram\n",
    "            vetor_epoca[possibilidades][instancia] += 1\n",
    "\n",
    "            if((vetor_resposta == vetor_final).all()):\n",
    "                break\n",
    "\n",
    "\n",
    "print(\"acabou!\")\n",
    "# Se for true, quer dizer que os dois são iguais, chegou a uma convergência\n",
    "# print((vetor_resposta == vetor_final).all())\n"
   ]
  },
  {
   "cell_type": "markdown",
   "metadata": {},
   "source": [
    "## Calculo da Média e Desvio padrão dos ajustes e épocas"
   ]
  },
  {
   "cell_type": "code",
   "execution_count": 7,
   "metadata": {
    "tags": []
   },
   "outputs": [
    {
     "output_type": "stream",
     "name": "stdout",
     "text": "[[ 788  536  423  926  348  678  462  783  740  351  924 1106  789  576\n  1114  531  981  763  363  892 1245 1043  222  211  369  820  482  749\n    85  355  930   35   11  518  676   58  831  328  239  388 1020   39\n   220 1098 1238  982  384  312  521  668  732  166    2  702  876  674\n   659  354  896  291  513  199  701  241  137    0   94   18  100  748\n   382  958  777  977  266  566  273  410  496  482   54  356  994 1013\n   537  987  672  318  781  449  351 1210  259  385  276  809  243  836\n   631  738]\n [ 221  178  220   40   44  138   95   67  238   35   77  185    0  134\n   121  171   96  398  126   35  220  189   43  248   77  117  163  214\n    74  117   56   40  143   30   14   87  191  244  199   70   29  124\n     5  143   71  164  142  100  269  248  225  105  259   97  112  148\n    77  112  257  158  127  102  106  198  186  282  155  229  166  233\n   132  153  164  238   86   24   30  198  168    8   74   35  203   38\n    81  182   41  116  221  277  133   71   82   95  235  237   55  256\n   263  231]\n [  22   18    7   25   34   12   18   17   20   22    9   25   40   34\n     3   22   18   22    4   26   48   18    8   32   34   23   12   29\n    28    8   22   26   36   14    9    5   15   12    6   29   32   46\n    44   32   31   29    4   11   21    9   14   38    5   25   33   33\n    18    4   50   19   24   32   21   21   26   11   34   43   10   28\n    19   28   23    1   28   33   19   28   39    5   21    7    8   36\n    34   10   36    9   39    7   25    9    6   31   29   10   28   23\n    21   34]\n [  16   17    9   23   17   18   11    4    4   10   14   14   33   24\n    13    7    6   13   22   15   10   18   14   17   10   23   11   22\n    16   13    7    6   14   14   20   25   12   18   10    8   12   17\n    28   17   23   17    5   15   12   10   22   18    3   23   16   13\n    16   13    9   15   18   13   25    5    9   12    7   10   19   17\n    12   24   10   16    7    9   21   16    7   15   14   25   14   23\n    16   10    9    9   12    3   15   12    6   22    0    1    8   15\n    16   10]\n [   5    3   11    9   13    7    6   16   12    6   15   17   15    8\n     7   16   12   12    9   11   13    6   11    6   11   18   15    7\n     9    7   15   18    6   11    5   17   20   14    9   12    8   13\n    14   15   11   10    8    4   14    9    3   16    4    6    7   20\n    12    7    7    8   11   13    8   12    6    7   15    8    4    9\n    11   18   12   15   14    6    7    8    9    4    7   17    6   16\n     5   11   19   21   12    4   10   10    6   13   10   10    8    8\n    13   23]\n [   9    9    9    9    9    9    9    9    9    9    9    9    9    9\n     9   11    9    9    9    9    9    9    9    9    9   11    9    9\n     9    9    9    9    9    9    9   11    9    9   11    9    9    9\n     9    9    9    9    9    9   11    9    9    9    9    9    9    9\n     9    9    9    9    9    9    9    9    9    9    9    9    9    9\n     9    9    9    9    9    9    9    9    9    9    9    9    9    9\n     9    9   11    9    9    9    9    9    9    9    9    9    9    9\n     9    9]\n [  10    9   17    6    4    6    4   12    9   10   22    9    6    5\n    18   16   10    9   14    8    3    7   17    3   10   10   13    5\n     9    6   11   14    8    1   13   10    4   14   19    8    7   17\n     8   16   16    5    8    9   12   27   15    4   12    5    6    1\n    19    9   10   10   22   16   21   22   27   21    4   22   12   21\n    16   16   13   13   12   14    5    9   21   16    4   11   12   10\n     6   11   12   12   13   16    9   14   15   22   10   12    5    7\n    18   10]\n [   4   24   13   17   13   13   15    4   13    9    9    9    9    9\n    17    7    4   13   22   17   13   17   17   11    5   17    5    9\n     9   13   17   17    9    7   13   13    7    9    5    9    9   22\n    11    9   11    9   22    9    5   17    9   17    9    5    9    9\n     5   17    9   15   17   15    9   18    9    9   15   17    9    9\n     9    9    5    9   22   15    4   17    9    9   13    9    5   13\n     9    9    4    7    5    9    9   17   18    4   17   11   11   17\n     9   11]\n [   9    9   11    9    9    9    9    9    9    9    9    9    9    9\n     9    9    9    9    9    9    9    9    9    9    9    9    9    9\n     9    9    9    9    9    9    9    9    9    9    9    9    9    9\n     9    9    9    9    9    9    9    9    9    9    9    9    9    9\n     9    9    9   11    9    9    9    9    9    9    9   11    9    9\n     9    9    9    9    9    9    9   11    9    9    9    9    9    9\n     9    9    9    9    9    9    9    9    9    9    9   11    9    9\n     9    9]]\n[[34 21 23 34 58 82 66 12 17 13 28 22 30 32 32 11 11 47 19 11 92 13  9 39\n  21 26 13 47  6 12 80 17  4 18 30 14 58  8 30 67 15 13 12 85 12 11 24 18\n  55 24 88 16  2 20 22 27 26 26 13 19 34  9 15  7  4  1 21 17 23 12 15 12\n  13 12 27 34 26 33 50 13 23 21 11 14 13 11 98 41 12 23 27 16  6 21 26 12\n  34 26 11 36]\n [12 10 19  6  6 21 10 10 24  3 10 21  1 22  8 18  8 15  7  7 10 12  7 11\n   9 16 19 12 10 12  4  6 11  6  6 11  9  9 10  2  5 24  5 10  3 26 11  9\n  11  9 10  5 22 17  7  7 15 10 18 25 10  8  9 11 10  9 19 10 14 15 25 22\n  25 10 19  4  6 10  8  9 17  7 11  6  5  8  3 16  9  9 21  9 15  7 12 12\n   7 17 18  9]\n [ 6  5  4  7  9  4  6  6  5  7  4  6 10 11  3  6  6  5  3  6 10  6  2  7\n  10  6  6 10  6  2  7  6  6  5  3  2  4  5  4  9  7  9  6  9  9  9  3  4\n   6  2  4  7  4  7  6  9  5  3 11  6  8  7  6  6  6  4  7 12  4  8  4  7\n   6  2  7  6  6  6  8  4  5  3  3  8  6  6  6  3  7  2  6  5  4  7  7  3\n   6  6  5  7]\n [ 6  9  4  8  8  7  4  3  3  5  6  7 12 10  7  4  4  6  9  6  5  9  6  8\n   6  8  5 10  6  6  4  4  5  6  7 11  5  6  5  4  4  9 10  5 10  8  4  7\n   5  5  7  9  3  9  8  5  6  5  5  7  7  5  7  4  4  5  4  6  6  7  6  7\n   6  7  5  4  6  7  4  5  7  8  7 11  6  5  4  4  6  2  5  5  4  8  1  2\n   5  5  5  5]\n [ 4  3  6  5  7  5  4  7  6  5  7  7  8  5  5  7  7  6  5  6  7  5  6  4\n   6  9  7  4  6  5  8  9  5  6  4  9 10  7  5  6  4  7  7  8  6  6  5  4\n   7  5  3  7  4  5  4 10  7  4  5  5  6  6  5  6  5  4  7  5  4  5  6  9\n   6  9  7  5  5  4  5  4  5  8  4  8  4  6 11 11  6  4  6  6  4  7  5  6\n   5  5  7 11]\n [ 5  5  5  5  5  5  5  5  5  5  5  5  5  5  5  7  5  5  5  5  5  5  5  5\n   5  6  5  5  5  5  5  5  5  5  5  6  5  5  6  5  5  5  5  5  5  5  5  5\n   6  5  5  5  5  5  5  5  5  5  5  5  5  5  5  5  5  5  5  5  5  5  5  5\n   5  5  5  5  5  5  5  5  5  5  5  5  5  5  6  5  5  5  5  5  5  5  5  5\n   5  5  5  5]\n [ 5  5  8  5  3  4  3  7  5  5 10  5  4  4  7  9  6  5  6  4  3  5  8  2\n   6  6  7  4  5  4  5  7  5  2  7  5  3  7  7  5  5  7  5  7  9  4  5  5\n   6 12  7  4  5  4  4  2 10  6  7  6 10  9  8 11 11 11  3 10  5  8  6  7\n   7  5  5  7  4  5 10  9  3  6  5  6  4  6  6  6  7  8  5  7  6 10  5  7\n   4  5  7  5]\n [ 4 12  7  9  7  6  8  4  7  5  5  5  5  5  9  5  4  6 11 10  7  9  9  6\n   4  8  4  5  5  8  9  9  5  5  6  7  4  5  4  5  5 11  6  5  6  5 11  5\n   4  9  5  8  5  4  5  5  4  9  5  9  9  8  5  9  5  5  8  9  5  5  5  5\n   4  5 11  9  4 10  6  5  8  5  4  7  6  5  4  5  4  5  5  8  8  4  8  6\n   6  8  5  6]\n [ 5  5  6  5  5  5  5  5  5  5  5  5  5  5  5  5  5  5  5  5  5  5  5  5\n   5  5  5  5  5  5  5  5  5  5  5  5  5  5  5  5  5  5  5  5  5  5  5  5\n   5  5  5  5  5  5  5  5  5  5  5  7  5  5  5  5  5  5  5  6  5  5  5  5\n   5  5  5  5  5  7  5  5  5  5  5  5  5  5  5  5  5  5  5  5  5  5  5  7\n   5  5  5  5]]\n"
    }
   ],
   "source": [
    "#Vetor das 100 mudancas e epocas\n",
    "print(vetor_mudanca_peso)\n",
    "print(vetor_epoca)"
   ]
  },
  {
   "cell_type": "code",
   "execution_count": 8,
   "metadata": {
    "tags": []
   },
   "outputs": [
    {
     "output_type": "stream",
     "name": "stdout",
     "text": "[557.4  139.11  22.06  13.94  10.62   9.12  11.57  11.33   9.1 ]\n[327.34901863  80.18814064  11.64115115   6.24150623   4.46716913\n   0.47497368   5.70307812   4.79386066   0.43588989]\n[25.95 11.5   5.9   6.02  5.98  5.07  6.02  6.33  5.08]\n[20.49749985  5.8779248   2.19317122  2.06387984  1.74917123  0.29171904\n  2.14932548  2.05939311  0.36551334]\n"
    }
   ],
   "source": [
    "# Media e desvio padrao dos ajustes\n",
    "ajuste_vetor_medias = np.zeros(9)\n",
    "ajuste_vetor_desvio_padrao = np.empty(9)\n",
    "\n",
    "#Media e desvio padrao da epoca\n",
    "epoca_vetor_medias = np.empty(9)\n",
    "epoca_vetor_desvio_padrao = np.empty(9)\n",
    "\n",
    "for i in range(len(vetor_epoca)):\n",
    "    ajuste_vetor_medias[i] = np.mean(vetor_mudanca_peso[i])\n",
    "    ajuste_vetor_desvio_padrao[i] = np.std(vetor_mudanca_peso[i])\n",
    "\n",
    "    epoca_vetor_medias[i] = np.mean(vetor_epoca[i])\n",
    "    epoca_vetor_desvio_padrao[i] = np.std(vetor_epoca[i])\n",
    "\n",
    "\n",
    "print(ajuste_vetor_medias)\n",
    "print(ajuste_vetor_desvio_padrao)\n",
    "\n",
    "print(epoca_vetor_medias)\n",
    "print(epoca_vetor_desvio_padrao)"
   ]
  },
  {
   "cell_type": "markdown",
   "metadata": {},
   "source": [
    "## Plot do gráfico"
   ]
  },
  {
   "cell_type": "code",
   "execution_count": 9,
   "metadata": {
    "tags": []
   },
   "outputs": [
    {
     "output_type": "stream",
     "name": "stdout",
     "text": "[ 788  536  423  926  348  678  462  783  740  351  924 1106  789  576\n 1114  531  981  763  363  892 1245 1043  222  211  369  820  482  749\n   85  355  930   35   11  518  676   58  831  328  239  388 1020   39\n  220 1098 1238  982  384  312  521  668  732  166    2  702  876  674\n  659  354  896  291  513  199  701  241  137    0   94   18  100  748\n  382  958  777  977  266  566  273  410  496  482   54  356  994 1013\n  537  987  672  318  781  449  351 1210  259  385  276  809  243  836\n  631  738]\n"
    },
    {
     "output_type": "execute_result",
     "data": {
      "text/plain": "(array([11.,  9., 16., 11.,  8., 12., 12., 12.,  6.,  3.]),\n array([   0. ,  124.5,  249. ,  373.5,  498. ,  622.5,  747. ,  871.5,\n         996. , 1120.5, 1245. ]),\n <a list of 10 Patch objects>)"
     },
     "metadata": {},
     "execution_count": 9
    },
    {
     "output_type": "display_data",
     "data": {
      "image/png": "[encoded data removed]",
      "text/plain": "<Figure size 432x288 with 1 Axes>",
      "image/svg+xml": "<?xml version=\"1.0\" encoding=\"utf-8\" standalone=\"no\"?>\r\n<!DOCTYPE svg PUBLIC \"-//W3C//DTD SVG 1.1//EN\"\r\n  \"http://www.w3.org/Graphics/SVG/1.1/DTD/svg11.dtd\">\r\n<!-- Created with matplotlib (https://matplotlib.org/) -->\r\n<svg height=\"248.518125pt\" version=\"1.1\" viewBox=\"0 0 368.925 248.518125\" width=\"368.925pt\" xmlns=\"http://www.w3.org/2000/svg\" xmlns:xlink=\"http://www.w3.org/1999/xlink\">\r\n <defs>\r\n  <style type=\"text/css\">\r\n*{stroke-linecap:butt;stroke-linejoin:round;}\r\n  </style>\r\n </defs>\r\n <g id=\"figure_1\">\r\n  <g id=\"patch_1\">\r\n   <path d=\"M -0 248.518125 \r\nL 368.925 248.518125 \r\nL 368.925 0 \r\nL -0 0 \r\nz\r\n\" style=\"fill:none;\"/>\r\n  </g>\r\n  <g id=\"axes_1\">\r\n   <g id=\"patch_2\">\r\n    <path d=\"M 26.925 224.64 \r\nL 361.725 224.64 \r\nL 361.725 7.2 \r\nL 26.925 7.2 \r\nz\r\n\" style=\"fill:#ffffff;\"/>\r\n   </g>\r\n   <g id=\"patch_3\">\r\n    <path clip-path=\"url(#pa4f1563278)\" d=\"M 42.143182 224.64 \r\nL 72.579545 224.64 \r\nL 72.579545 82.268571 \r\nL 42.143182 82.268571 \r\nz\r\n\" style=\"fill:#1f77b4;\"/>\r\n   </g>\r\n   <g id=\"patch_4\">\r\n    <path clip-path=\"url(#pa4f1563278)\" d=\"M 72.579545 224.64 \r\nL 103.015909 224.64 \r\nL 103.015909 108.154286 \r\nL 72.579545 108.154286 \r\nz\r\n\" style=\"fill:#1f77b4;\"/>\r\n   </g>\r\n   <g id=\"patch_5\">\r\n    <path clip-path=\"url(#pa4f1563278)\" d=\"M 103.015909 224.64 \r\nL 133.452273 224.64 \r\nL 133.452273 17.554286 \r\nL 103.015909 17.554286 \r\nz\r\n\" style=\"fill:#1f77b4;\"/>\r\n   </g>\r\n   <g id=\"patch_6\">\r\n    <path clip-path=\"url(#pa4f1563278)\" d=\"M 133.452273 224.64 \r\nL 163.888636 224.64 \r\nL 163.888636 82.268571 \r\nL 133.452273 82.268571 \r\nz\r\n\" style=\"fill:#1f77b4;\"/>\r\n   </g>\r\n   <g id=\"patch_7\">\r\n    <path clip-path=\"url(#pa4f1563278)\" d=\"M 163.888636 224.64 \r\nL 194.325 224.64 \r\nL 194.325 121.097143 \r\nL 163.888636 121.097143 \r\nz\r\n\" style=\"fill:#1f77b4;\"/>\r\n   </g>\r\n   <g id=\"patch_8\">\r\n    <path clip-path=\"url(#pa4f1563278)\" d=\"M 194.325 224.64 \r\nL 224.761364 224.64 \r\nL 224.761364 69.325714 \r\nL 194.325 69.325714 \r\nz\r\n\" style=\"fill:#1f77b4;\"/>\r\n   </g>\r\n   <g id=\"patch_9\">\r\n    <path clip-path=\"url(#pa4f1563278)\" d=\"M 224.761364 224.64 \r\nL 255.197727 224.64 \r\nL 255.197727 69.325714 \r\nL 224.761364 69.325714 \r\nz\r\n\" style=\"fill:#1f77b4;\"/>\r\n   </g>\r\n   <g id=\"patch_10\">\r\n    <path clip-path=\"url(#pa4f1563278)\" d=\"M 255.197727 224.64 \r\nL 285.634091 224.64 \r\nL 285.634091 69.325714 \r\nL 255.197727 69.325714 \r\nz\r\n\" style=\"fill:#1f77b4;\"/>\r\n   </g>\r\n   <g id=\"patch_11\">\r\n    <path clip-path=\"url(#pa4f1563278)\" d=\"M 285.634091 224.64 \r\nL 316.070455 224.64 \r\nL 316.070455 146.982857 \r\nL 285.634091 146.982857 \r\nz\r\n\" style=\"fill:#1f77b4;\"/>\r\n   </g>\r\n   <g id=\"patch_12\">\r\n    <path clip-path=\"url(#pa4f1563278)\" d=\"M 316.070455 224.64 \r\nL 346.506818 224.64 \r\nL 346.506818 185.811429 \r\nL 316.070455 185.811429 \r\nz\r\n\" style=\"fill:#1f77b4;\"/>\r\n   </g>\r\n   <g id=\"matplotlib.axis_1\">\r\n    <g id=\"xtick_1\">\r\n     <g id=\"line2d_1\">\r\n      <defs>\r\n       <path d=\"M 0 0 \r\nL 0 3.5 \r\n\" id=\"mb270133dd6\" style=\"stroke:#000000;stroke-width:0.8;\"/>\r\n      </defs>\r\n      <g>\r\n       <use style=\"stroke:#000000;stroke-width:0.8;\" x=\"42.143182\" xlink:href=\"#mb270133dd6\" y=\"224.64\"/>\r\n      </g>\r\n     </g>\r\n     <g id=\"text_1\">\r\n      <!-- 0 -->\r\n      <defs>\r\n       <path d=\"M 31.78125 66.40625 \r\nQ 24.171875 66.40625 20.328125 58.90625 \r\nQ 16.5 51.421875 16.5 36.375 \r\nQ 16.5 21.390625 20.328125 13.890625 \r\nQ 24.171875 6.390625 31.78125 6.390625 \r\nQ 39.453125 6.390625 43.28125 13.890625 \r\nQ 47.125 21.390625 47.125 36.375 \r\nQ 47.125 51.421875 43.28125 58.90625 \r\nQ 39.453125 66.40625 31.78125 66.40625 \r\nz\r\nM 31.78125 74.21875 \r\nQ 44.046875 74.21875 50.515625 64.515625 \r\nQ 56.984375 54.828125 56.984375 36.375 \r\nQ 56.984375 17.96875 50.515625 8.265625 \r\nQ 44.046875 -1.421875 31.78125 -1.421875 \r\nQ 19.53125 -1.421875 13.0625 8.265625 \r\nQ 6.59375 17.96875 6.59375 36.375 \r\nQ 6.59375 54.828125 13.0625 64.515625 \r\nQ 19.53125 74.21875 31.78125 74.21875 \r\nz\r\n\" id=\"DejaVuSans-48\"/>\r\n      </defs>\r\n      <g transform=\"translate(38.961932 239.238437)scale(0.1 -0.1)\">\r\n       <use xlink:href=\"#DejaVuSans-48\"/>\r\n      </g>\r\n     </g>\r\n    </g>\r\n    <g id=\"xtick_2\">\r\n     <g id=\"line2d_2\">\r\n      <g>\r\n       <use style=\"stroke:#000000;stroke-width:0.8;\" x=\"91.036939\" xlink:href=\"#mb270133dd6\" y=\"224.64\"/>\r\n      </g>\r\n     </g>\r\n     <g id=\"text_2\">\r\n      <!-- 200 -->\r\n      <defs>\r\n       <path d=\"M 19.1875 8.296875 \r\nL 53.609375 8.296875 \r\nL 53.609375 0 \r\nL 7.328125 0 \r\nL 7.328125 8.296875 \r\nQ 12.9375 14.109375 22.625 23.890625 \r\nQ 32.328125 33.6875 34.8125 36.53125 \r\nQ 39.546875 41.84375 41.421875 45.53125 \r\nQ 43.3125 49.21875 43.3125 52.78125 \r\nQ 43.3125 58.59375 39.234375 62.25 \r\nQ 35.15625 65.921875 28.609375 65.921875 \r\nQ 23.96875 65.921875 18.8125 64.3125 \r\nQ 13.671875 62.703125 7.8125 59.421875 \r\nL 7.8125 69.390625 \r\nQ 13.765625 71.78125 18.9375 73 \r\nQ 24.125 74.21875 28.421875 74.21875 \r\nQ 39.75 74.21875 46.484375 68.546875 \r\nQ 53.21875 62.890625 53.21875 53.421875 \r\nQ 53.21875 48.921875 51.53125 44.890625 \r\nQ 49.859375 40.875 45.40625 35.40625 \r\nQ 44.1875 33.984375 37.640625 27.21875 \r\nQ 31.109375 20.453125 19.1875 8.296875 \r\nz\r\n\" id=\"DejaVuSans-50\"/>\r\n      </defs>\r\n      <g transform=\"translate(81.493189 239.238437)scale(0.1 -0.1)\">\r\n       <use xlink:href=\"#DejaVuSans-50\"/>\r\n       <use x=\"63.623047\" xlink:href=\"#DejaVuSans-48\"/>\r\n       <use x=\"127.246094\" xlink:href=\"#DejaVuSans-48\"/>\r\n      </g>\r\n     </g>\r\n    </g>\r\n    <g id=\"xtick_3\">\r\n     <g id=\"line2d_3\">\r\n      <g>\r\n       <use style=\"stroke:#000000;stroke-width:0.8;\" x=\"139.930696\" xlink:href=\"#mb270133dd6\" y=\"224.64\"/>\r\n      </g>\r\n     </g>\r\n     <g id=\"text_3\">\r\n      <!-- 400 -->\r\n      <defs>\r\n       <path d=\"M 37.796875 64.3125 \r\nL 12.890625 25.390625 \r\nL 37.796875 25.390625 \r\nz\r\nM 35.203125 72.90625 \r\nL 47.609375 72.90625 \r\nL 47.609375 25.390625 \r\nL 58.015625 25.390625 \r\nL 58.015625 17.1875 \r\nL 47.609375 17.1875 \r\nL 47.609375 0 \r\nL 37.796875 0 \r\nL 37.796875 17.1875 \r\nL 4.890625 17.1875 \r\nL 4.890625 26.703125 \r\nz\r\n\" id=\"DejaVuSans-52\"/>\r\n      </defs>\r\n      <g transform=\"translate(130.386946 239.238437)scale(0.1 -0.1)\">\r\n       <use xlink:href=\"#DejaVuSans-52\"/>\r\n       <use x=\"63.623047\" xlink:href=\"#DejaVuSans-48\"/>\r\n       <use x=\"127.246094\" xlink:href=\"#DejaVuSans-48\"/>\r\n      </g>\r\n     </g>\r\n    </g>\r\n    <g id=\"xtick_4\">\r\n     <g id=\"line2d_4\">\r\n      <g>\r\n       <use style=\"stroke:#000000;stroke-width:0.8;\" x=\"188.824452\" xlink:href=\"#mb270133dd6\" y=\"224.64\"/>\r\n      </g>\r\n     </g>\r\n     <g id=\"text_4\">\r\n      <!-- 600 -->\r\n      <defs>\r\n       <path d=\"M 33.015625 40.375 \r\nQ 26.375 40.375 22.484375 35.828125 \r\nQ 18.609375 31.296875 18.609375 23.390625 \r\nQ 18.609375 15.53125 22.484375 10.953125 \r\nQ 26.375 6.390625 33.015625 6.390625 \r\nQ 39.65625 6.390625 43.53125 10.953125 \r\nQ 47.40625 15.53125 47.40625 23.390625 \r\nQ 47.40625 31.296875 43.53125 35.828125 \r\nQ 39.65625 40.375 33.015625 40.375 \r\nz\r\nM 52.59375 71.296875 \r\nL 52.59375 62.3125 \r\nQ 48.875 64.0625 45.09375 64.984375 \r\nQ 41.3125 65.921875 37.59375 65.921875 \r\nQ 27.828125 65.921875 22.671875 59.328125 \r\nQ 17.53125 52.734375 16.796875 39.40625 \r\nQ 19.671875 43.65625 24.015625 45.921875 \r\nQ 28.375 48.1875 33.59375 48.1875 \r\nQ 44.578125 48.1875 50.953125 41.515625 \r\nQ 57.328125 34.859375 57.328125 23.390625 \r\nQ 57.328125 12.15625 50.6875 5.359375 \r\nQ 44.046875 -1.421875 33.015625 -1.421875 \r\nQ 20.359375 -1.421875 13.671875 8.265625 \r\nQ 6.984375 17.96875 6.984375 36.375 \r\nQ 6.984375 53.65625 15.1875 63.9375 \r\nQ 23.390625 74.21875 37.203125 74.21875 \r\nQ 40.921875 74.21875 44.703125 73.484375 \r\nQ 48.484375 72.75 52.59375 71.296875 \r\nz\r\n\" id=\"DejaVuSans-54\"/>\r\n      </defs>\r\n      <g transform=\"translate(179.280702 239.238437)scale(0.1 -0.1)\">\r\n       <use xlink:href=\"#DejaVuSans-54\"/>\r\n       <use x=\"63.623047\" xlink:href=\"#DejaVuSans-48\"/>\r\n       <use x=\"127.246094\" xlink:href=\"#DejaVuSans-48\"/>\r\n      </g>\r\n     </g>\r\n    </g>\r\n    <g id=\"xtick_5\">\r\n     <g id=\"line2d_5\">\r\n      <g>\r\n       <use style=\"stroke:#000000;stroke-width:0.8;\" x=\"237.718209\" xlink:href=\"#mb270133dd6\" y=\"224.64\"/>\r\n      </g>\r\n     </g>\r\n     <g id=\"text_5\">\r\n      <!-- 800 -->\r\n      <defs>\r\n       <path d=\"M 31.78125 34.625 \r\nQ 24.75 34.625 20.71875 30.859375 \r\nQ 16.703125 27.09375 16.703125 20.515625 \r\nQ 16.703125 13.921875 20.71875 10.15625 \r\nQ 24.75 6.390625 31.78125 6.390625 \r\nQ 38.8125 6.390625 42.859375 10.171875 \r\nQ 46.921875 13.96875 46.921875 20.515625 \r\nQ 46.921875 27.09375 42.890625 30.859375 \r\nQ 38.875 34.625 31.78125 34.625 \r\nz\r\nM 21.921875 38.8125 \r\nQ 15.578125 40.375 12.03125 44.71875 \r\nQ 8.5 49.078125 8.5 55.328125 \r\nQ 8.5 64.0625 14.71875 69.140625 \r\nQ 20.953125 74.21875 31.78125 74.21875 \r\nQ 42.671875 74.21875 48.875 69.140625 \r\nQ 55.078125 64.0625 55.078125 55.328125 \r\nQ 55.078125 49.078125 51.53125 44.71875 \r\nQ 48 40.375 41.703125 38.8125 \r\nQ 48.828125 37.15625 52.796875 32.3125 \r\nQ 56.78125 27.484375 56.78125 20.515625 \r\nQ 56.78125 9.90625 50.3125 4.234375 \r\nQ 43.84375 -1.421875 31.78125 -1.421875 \r\nQ 19.734375 -1.421875 13.25 4.234375 \r\nQ 6.78125 9.90625 6.78125 20.515625 \r\nQ 6.78125 27.484375 10.78125 32.3125 \r\nQ 14.796875 37.15625 21.921875 38.8125 \r\nz\r\nM 18.3125 54.390625 \r\nQ 18.3125 48.734375 21.84375 45.5625 \r\nQ 25.390625 42.390625 31.78125 42.390625 \r\nQ 38.140625 42.390625 41.71875 45.5625 \r\nQ 45.3125 48.734375 45.3125 54.390625 \r\nQ 45.3125 60.0625 41.71875 63.234375 \r\nQ 38.140625 66.40625 31.78125 66.40625 \r\nQ 25.390625 66.40625 21.84375 63.234375 \r\nQ 18.3125 60.0625 18.3125 54.390625 \r\nz\r\n\" id=\"DejaVuSans-56\"/>\r\n      </defs>\r\n      <g transform=\"translate(228.174459 239.238437)scale(0.1 -0.1)\">\r\n       <use xlink:href=\"#DejaVuSans-56\"/>\r\n       <use x=\"63.623047\" xlink:href=\"#DejaVuSans-48\"/>\r\n       <use x=\"127.246094\" xlink:href=\"#DejaVuSans-48\"/>\r\n      </g>\r\n     </g>\r\n    </g>\r\n    <g id=\"xtick_6\">\r\n     <g id=\"line2d_6\">\r\n      <g>\r\n       <use style=\"stroke:#000000;stroke-width:0.8;\" x=\"286.611966\" xlink:href=\"#mb270133dd6\" y=\"224.64\"/>\r\n      </g>\r\n     </g>\r\n     <g id=\"text_6\">\r\n      <!-- 1000 -->\r\n      <defs>\r\n       <path d=\"M 12.40625 8.296875 \r\nL 28.515625 8.296875 \r\nL 28.515625 63.921875 \r\nL 10.984375 60.40625 \r\nL 10.984375 69.390625 \r\nL 28.421875 72.90625 \r\nL 38.28125 72.90625 \r\nL 38.28125 8.296875 \r\nL 54.390625 8.296875 \r\nL 54.390625 0 \r\nL 12.40625 0 \r\nz\r\n\" id=\"DejaVuSans-49\"/>\r\n      </defs>\r\n      <g transform=\"translate(273.886966 239.238437)scale(0.1 -0.1)\">\r\n       <use xlink:href=\"#DejaVuSans-49\"/>\r\n       <use x=\"63.623047\" xlink:href=\"#DejaVuSans-48\"/>\r\n       <use x=\"127.246094\" xlink:href=\"#DejaVuSans-48\"/>\r\n       <use x=\"190.869141\" xlink:href=\"#DejaVuSans-48\"/>\r\n      </g>\r\n     </g>\r\n    </g>\r\n    <g id=\"xtick_7\">\r\n     <g id=\"line2d_7\">\r\n      <g>\r\n       <use style=\"stroke:#000000;stroke-width:0.8;\" x=\"335.505723\" xlink:href=\"#mb270133dd6\" y=\"224.64\"/>\r\n      </g>\r\n     </g>\r\n     <g id=\"text_7\">\r\n      <!-- 1200 -->\r\n      <g transform=\"translate(322.780723 239.238437)scale(0.1 -0.1)\">\r\n       <use xlink:href=\"#DejaVuSans-49\"/>\r\n       <use x=\"63.623047\" xlink:href=\"#DejaVuSans-50\"/>\r\n       <use x=\"127.246094\" xlink:href=\"#DejaVuSans-48\"/>\r\n       <use x=\"190.869141\" xlink:href=\"#DejaVuSans-48\"/>\r\n      </g>\r\n     </g>\r\n    </g>\r\n   </g>\r\n   <g id=\"matplotlib.axis_2\">\r\n    <g id=\"ytick_1\">\r\n     <g id=\"line2d_8\">\r\n      <defs>\r\n       <path d=\"M 0 0 \r\nL -3.5 0 \r\n\" id=\"m43a56d099e\" style=\"stroke:#000000;stroke-width:0.8;\"/>\r\n      </defs>\r\n      <g>\r\n       <use style=\"stroke:#000000;stroke-width:0.8;\" x=\"26.925\" xlink:href=\"#m43a56d099e\" y=\"224.64\"/>\r\n      </g>\r\n     </g>\r\n     <g id=\"text_8\">\r\n      <!-- 0 -->\r\n      <g transform=\"translate(13.5625 228.439219)scale(0.1 -0.1)\">\r\n       <use xlink:href=\"#DejaVuSans-48\"/>\r\n      </g>\r\n     </g>\r\n    </g>\r\n    <g id=\"ytick_2\">\r\n     <g id=\"line2d_9\">\r\n      <g>\r\n       <use style=\"stroke:#000000;stroke-width:0.8;\" x=\"26.925\" xlink:href=\"#m43a56d099e\" y=\"198.754286\"/>\r\n      </g>\r\n     </g>\r\n     <g id=\"text_9\">\r\n      <!-- 2 -->\r\n      <g transform=\"translate(13.5625 202.553504)scale(0.1 -0.1)\">\r\n       <use xlink:href=\"#DejaVuSans-50\"/>\r\n      </g>\r\n     </g>\r\n    </g>\r\n    <g id=\"ytick_3\">\r\n     <g id=\"line2d_10\">\r\n      <g>\r\n       <use style=\"stroke:#000000;stroke-width:0.8;\" x=\"26.925\" xlink:href=\"#m43a56d099e\" y=\"172.868571\"/>\r\n      </g>\r\n     </g>\r\n     <g id=\"text_10\">\r\n      <!-- 4 -->\r\n      <g transform=\"translate(13.5625 176.66779)scale(0.1 -0.1)\">\r\n       <use xlink:href=\"#DejaVuSans-52\"/>\r\n      </g>\r\n     </g>\r\n    </g>\r\n    <g id=\"ytick_4\">\r\n     <g id=\"line2d_11\">\r\n      <g>\r\n       <use style=\"stroke:#000000;stroke-width:0.8;\" x=\"26.925\" xlink:href=\"#m43a56d099e\" y=\"146.982857\"/>\r\n      </g>\r\n     </g>\r\n     <g id=\"text_11\">\r\n      <!-- 6 -->\r\n      <g transform=\"translate(13.5625 150.782076)scale(0.1 -0.1)\">\r\n       <use xlink:href=\"#DejaVuSans-54\"/>\r\n      </g>\r\n     </g>\r\n    </g>\r\n    <g id=\"ytick_5\">\r\n     <g id=\"line2d_12\">\r\n      <g>\r\n       <use style=\"stroke:#000000;stroke-width:0.8;\" x=\"26.925\" xlink:href=\"#m43a56d099e\" y=\"121.097143\"/>\r\n      </g>\r\n     </g>\r\n     <g id=\"text_12\">\r\n      <!-- 8 -->\r\n      <g transform=\"translate(13.5625 124.896362)scale(0.1 -0.1)\">\r\n       <use xlink:href=\"#DejaVuSans-56\"/>\r\n      </g>\r\n     </g>\r\n    </g>\r\n    <g id=\"ytick_6\">\r\n     <g id=\"line2d_13\">\r\n      <g>\r\n       <use style=\"stroke:#000000;stroke-width:0.8;\" x=\"26.925\" xlink:href=\"#m43a56d099e\" y=\"95.211429\"/>\r\n      </g>\r\n     </g>\r\n     <g id=\"text_13\">\r\n      <!-- 10 -->\r\n      <g transform=\"translate(7.2 99.010647)scale(0.1 -0.1)\">\r\n       <use xlink:href=\"#DejaVuSans-49\"/>\r\n       <use x=\"63.623047\" xlink:href=\"#DejaVuSans-48\"/>\r\n      </g>\r\n     </g>\r\n    </g>\r\n    <g id=\"ytick_7\">\r\n     <g id=\"line2d_14\">\r\n      <g>\r\n       <use style=\"stroke:#000000;stroke-width:0.8;\" x=\"26.925\" xlink:href=\"#m43a56d099e\" y=\"69.325714\"/>\r\n      </g>\r\n     </g>\r\n     <g id=\"text_14\">\r\n      <!-- 12 -->\r\n      <g transform=\"translate(7.2 73.124933)scale(0.1 -0.1)\">\r\n       <use xlink:href=\"#DejaVuSans-49\"/>\r\n       <use x=\"63.623047\" xlink:href=\"#DejaVuSans-50\"/>\r\n      </g>\r\n     </g>\r\n    </g>\r\n    <g id=\"ytick_8\">\r\n     <g id=\"line2d_15\">\r\n      <g>\r\n       <use style=\"stroke:#000000;stroke-width:0.8;\" x=\"26.925\" xlink:href=\"#m43a56d099e\" y=\"43.44\"/>\r\n      </g>\r\n     </g>\r\n     <g id=\"text_15\">\r\n      <!-- 14 -->\r\n      <g transform=\"translate(7.2 47.239219)scale(0.1 -0.1)\">\r\n       <use xlink:href=\"#DejaVuSans-49\"/>\r\n       <use x=\"63.623047\" xlink:href=\"#DejaVuSans-52\"/>\r\n      </g>\r\n     </g>\r\n    </g>\r\n    <g id=\"ytick_9\">\r\n     <g id=\"line2d_16\">\r\n      <g>\r\n       <use style=\"stroke:#000000;stroke-width:0.8;\" x=\"26.925\" xlink:href=\"#m43a56d099e\" y=\"17.554286\"/>\r\n      </g>\r\n     </g>\r\n     <g id=\"text_16\">\r\n      <!-- 16 -->\r\n      <g transform=\"translate(7.2 21.353504)scale(0.1 -0.1)\">\r\n       <use xlink:href=\"#DejaVuSans-49\"/>\r\n       <use x=\"63.623047\" xlink:href=\"#DejaVuSans-54\"/>\r\n      </g>\r\n     </g>\r\n    </g>\r\n   </g>\r\n   <g id=\"patch_13\">\r\n    <path d=\"M 26.925 224.64 \r\nL 26.925 7.2 \r\n\" style=\"fill:none;stroke:#000000;stroke-linecap:square;stroke-linejoin:miter;stroke-width:0.8;\"/>\r\n   </g>\r\n   <g id=\"patch_14\">\r\n    <path d=\"M 361.725 224.64 \r\nL 361.725 7.2 \r\n\" style=\"fill:none;stroke:#000000;stroke-linecap:square;stroke-linejoin:miter;stroke-width:0.8;\"/>\r\n   </g>\r\n   <g id=\"patch_15\">\r\n    <path d=\"M 26.925 224.64 \r\nL 361.725 224.64 \r\n\" style=\"fill:none;stroke:#000000;stroke-linecap:square;stroke-linejoin:miter;stroke-width:0.8;\"/>\r\n   </g>\r\n   <g id=\"patch_16\">\r\n    <path d=\"M 26.925 7.2 \r\nL 361.725 7.2 \r\n\" style=\"fill:none;stroke:#000000;stroke-linecap:square;stroke-linejoin:miter;stroke-width:0.8;\"/>\r\n   </g>\r\n  </g>\r\n </g>\r\n <defs>\r\n  <clipPath id=\"pa4f1563278\">\r\n   <rect height=\"217.44\" width=\"334.8\" x=\"26.925\" y=\"7.2\"/>\r\n  </clipPath>\r\n </defs>\r\n</svg>\r\n"
     },
     "metadata": {
      "needs_background": "light"
     }
    }
   ],
   "source": [
    "print(vetor_mudanca_peso[0])\n",
    "\n",
    "plt.hist(vetor_mudanca_peso[0])\n"
   ]
  },
  {
   "cell_type": "code",
   "execution_count": null,
   "metadata": {},
   "outputs": [],
   "source": []
  }
 ]
}