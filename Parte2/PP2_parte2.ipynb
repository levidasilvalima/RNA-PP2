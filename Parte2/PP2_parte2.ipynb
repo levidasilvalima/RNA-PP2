{
  "nbformat": 4,
  "nbformat_minor": 0,
  "metadata": {
    "language_info": {
      "codemirror_mode": {
        "name": "ipython",
        "version": 3
      },
      "file_extension": ".py",
      "mimetype": "text/x-python",
      "name": "python",
      "nbconvert_exporter": "python",
      "pygments_lexer": "ipython3",
      "version": "3.7.4-final"
    },
    "orig_nbformat": 2,
    "kernelspec": {
      "name": "python37464bit286065bc8b1e4c1480c2b405bd71233c",
      "display_name": "Python 3.7.4 64-bit"
    },
    "colab": {
      "name": "PP2_parte2.ipynb",
      "provenance": []
    }
  },
  "cells": [
    {
      "cell_type": "markdown",
      "metadata": {
        "id": "a98clesFBBny",
        "colab_type": "text"
      },
      "source": [
        "# PP2 - Parte 2"
      ]
    },
    {
      "cell_type": "markdown",
      "metadata": {
        "id": "rIecUXTsBBnz",
        "colab_type": "text"
      },
      "source": [
        "## Notebook do exercício prático 2, Parte 2\n",
        "\n",
        "* **UEA - Universidade do Estado do Amazonas**\n",
        "* **EST - Escola Superior de Tecnologia**\n",
        "* **Matéria de Redes Neurais**\n",
        "* **Professora Elloá Guedes**\n",
        "* **Repositório:** https://github.com/levidasilvalima/RNA-PP2\n",
        "\n",
        "### Autores\n",
        "* Ian Gustavo Alves Pessoa Silva - 1715080288  \n",
        "* William Azevedo da Silva - 1615080226  \n",
        "* Daniel Akio Chen - 1715080253  \n",
        "* Levi da Silva Lima - 1615080131"
      ]
    },
    {
      "cell_type": "markdown",
      "metadata": {
        "id": "S2kyKSoxBBnz",
        "colab_type": "text"
      },
      "source": [
        "## Import das bibliotecas  \n",
        "Simples import das bibliotecas a serem usadas\n"
      ]
    },
    {
      "cell_type": "code",
      "metadata": {
        "tags": [],
        "id": "e4VIGN6_BBn0",
        "colab_type": "code",
        "colab": {}
      },
      "source": [
        "import numpy as np\n",
        "import random\n",
        "import math\n",
        "import matplotlib.pyplot as plt\n",
        "from google.colab import drive"
      ],
      "execution_count": 7,
      "outputs": []
    },
    {
      "cell_type": "code",
      "metadata": {
        "id": "ok8nOxwbBeRm",
        "colab_type": "code",
        "colab": {
          "base_uri": "https://localhost:8080/",
          "height": 34
        },
        "outputId": "b7f15c99-51e2-4ba3-e2ea-d63f558413f7"
      },
      "source": [
        "drive.mount('/content/drive/')"
      ],
      "execution_count": 8,
      "outputs": [
        {
          "output_type": "stream",
          "text": [
            "Drive already mounted at /content/drive/; to attempt to forcibly remount, call drive.mount(\"/content/drive/\", force_remount=True).\n"
          ],
          "name": "stdout"
        }
      ]
    },
    {
      "cell_type": "markdown",
      "metadata": {
        "id": "rQde1GOJBBn3",
        "colab_type": "text"
      },
      "source": [
        "## Import do arquivo a ser usado"
      ]
    },
    {
      "cell_type": "code",
      "metadata": {
        "tags": [],
        "id": "fUbUtRUaBBn3",
        "colab_type": "code",
        "colab": {}
      },
      "source": [
        "# dados_brutos = np.fromfile('./data2.txt')\n",
        "dados_brutos = np.fromfile('/content/drive/My Drive/Colab Notebooks/data2.txt')\n"
      ],
      "execution_count": 9,
      "outputs": []
    },
    {
      "cell_type": "markdown",
      "metadata": {
        "id": "-ZDPgvZABBn5",
        "colab_type": "text"
      },
      "source": [
        "## Organização dos dados"
      ]
    },
    {
      "cell_type": "code",
      "metadata": {
        "tags": [],
        "id": "SzhmirJaBBn6",
        "colab_type": "code",
        "colab": {}
      },
      "source": [
        "dados = dados_brutos.reshape((600,3))\n",
        "dados = dados.transpose()\n",
        "\n",
        "vetor1 = np.array(dados[0])\n",
        "vetor2 = np.array(dados[1])\n",
        "vetor_resposta = np.array(dados[2])\n",
        "x0 = -1\n"
      ],
      "execution_count": 10,
      "outputs": []
    },
    {
      "cell_type": "markdown",
      "metadata": {
        "id": "L_WTFe6kBBn8",
        "colab_type": "text"
      },
      "source": [
        "## Inicialização das configurações a serem usadas"
      ]
    },
    {
      "cell_type": "code",
      "metadata": {
        "tags": [],
        "id": "YmfHz_ILBBn8",
        "colab_type": "code",
        "colab": {
          "base_uri": "https://localhost:8080/",
          "height": 187
        },
        "outputId": "2abc9b7c-11aa-49e5-af2c-1abf70a9d3d5"
      },
      "source": [
        "# Distribuição uniforme aleatório dos pesos,\n",
        "# Produto cartesiano a ser feito\n",
        "pes = np.array([0.4, 0.1, 0.01])\n",
        "aleatorio = np.array([[-100,100], [-1, 1], [-0.5, 0.5]])\n",
        "\n",
        "# Vetores vazios que serão adicionados\n",
        "configuracoes = np.array([]).reshape(0, 2)\n",
        "vetor_peso = np.empty([9, 3])\n",
        "\n",
        "for i in range(3):\n",
        "    for j in range(3):\n",
        "        config = aleatorio[i] * pes[j] # Produto cartesiano\n",
        "        # print(config)\n",
        "\n",
        "        # Adicionar ao vetor de configurações possíveis\n",
        "        configuracoes = np.vstack((configuracoes, config))\n",
        "\n",
        "        #Adicionar ao vetor de pesos aleatórios\n",
        "        # vetor_peso = np.vstack((vetor_peso, np.random.uniform(config[0], config[1], 3)))\n",
        "\n",
        "print(\"Configurações: \\n\", configuracoes)\n",
        "# print(\"Pesos: \", vetor_peso)"
      ],
      "execution_count": 11,
      "outputs": [
        {
          "output_type": "stream",
          "text": [
            "Configurações: \n",
            " [[-4.e+01  4.e+01]\n",
            " [-1.e+01  1.e+01]\n",
            " [-1.e+00  1.e+00]\n",
            " [-4.e-01  4.e-01]\n",
            " [-1.e-01  1.e-01]\n",
            " [-1.e-02  1.e-02]\n",
            " [-2.e-01  2.e-01]\n",
            " [-5.e-02  5.e-02]\n",
            " [-5.e-03  5.e-03]]\n"
          ],
          "name": "stdout"
        }
      ]
    },
    {
      "cell_type": "markdown",
      "metadata": {
        "id": "eVfdV4NTBBn_",
        "colab_type": "text"
      },
      "source": [
        "## Função de ativação"
      ]
    },
    {
      "cell_type": "code",
      "metadata": {
        "id": "ABg8329DBBoA",
        "colab_type": "code",
        "colab": {}
      },
      "source": [
        "#Função de ativação tipo degrau, com v = 0\n",
        "def funcao_ativacao(saida):\n",
        "    if saida >= 0:\n",
        "        return 1\n",
        "    else:\n",
        "        return 0"
      ],
      "execution_count": 12,
      "outputs": []
    },
    {
      "cell_type": "markdown",
      "metadata": {
        "id": "v0z2R34hBBoC",
        "colab_type": "text"
      },
      "source": [
        "## Principal - Aprendizado"
      ]
    },
    {
      "cell_type": "code",
      "metadata": {
        "tags": [],
        "id": "9dxGz7BYBBoC",
        "colab_type": "code",
        "colab": {
          "base_uri": "https://localhost:8080/",
          "height": 34
        },
        "outputId": "99bdef30-7109-4dcd-f3a7-290f63a812cc"
      },
      "source": [
        "res_temp = 0                                          # Int temporário que vai guardar o res para funcao de ativacao\n",
        "vetor_final = np.empty(600)                           # Vetor que será comparado com o resultado\n",
        "\n",
        "n = 0.1                                               # Taxa de aprendizado\n",
        "mudanca_peso = 0                                      # N de ajustes de peso\n",
        "mudanca_total = 0                                     # N total de ajustes de peso\n",
        "epoca = 0                                             # Epocas de ajuste\n",
        "\n",
        "vetor_epoca = np.zeros([9, 100], dtype=int)           # Vetor das epocas\n",
        "vetor_mudanca_peso = np.zeros([9, 100], dtype=int)    # Vetor dos ajustes totais\n",
        "\n",
        "fa = 0              # Funcao de ativacao\n",
        "\n",
        "# No caso do pp2, vai repetir 9 vezes\n",
        "for possibilidades in range(len(configuracoes)):\n",
        "\n",
        "    #Repetir 100 vezes para gerar dados\n",
        "    for instancia in range(100):\n",
        "\n",
        "        vetor_peso[possibilidades] = np.random.uniform(configuracoes[possibilidades][0], configuracoes[possibilidades][1], 3) \n",
        "\n",
        "        #Ele só para quando o vetor de respostas for igual ao vetor final\n",
        "        while(True):\n",
        "\n",
        "            #Repetir pela quantidade de vezes que tiver nos dados\n",
        "            for i in range(len(dados[0])):\n",
        "\n",
        "                # Soma dos produtos\n",
        "                vetor_res_temp = (x0 * vetor_peso[possibilidades][0]) + (vetor1[i] * vetor_peso[possibilidades][1]) + (vetor2[i] * vetor_peso[possibilidades][2])\n",
        "\n",
        "                # funcao de ativacao\n",
        "                fa = funcao_ativacao(vetor_res_temp)\n",
        "\n",
        "                vetor_final[i] = fa\n",
        "\n",
        "                if (fa != vetor_resposta[i]): #Se estiver errado\n",
        "\n",
        "                    #Erro é (esperado - funcao ativacao)\n",
        "                    erro = vetor_resposta[i] - fa\n",
        "\n",
        "                    valor_anterior = np.array([x0, vetor1[i], vetor2[i]])\n",
        "                    #Ajuste de peso\n",
        "                    vetor_peso[possibilidades] = vetor_peso[possibilidades] + (n*erro*valor_anterior)\n",
        "\n",
        "                    #Adicionar quantidade de mudanças totais\n",
        "                    vetor_mudanca_peso[possibilidades][instancia] += 1\n",
        "\n",
        "            #Adicionar quantas epocas houveram\n",
        "            vetor_epoca[possibilidades][instancia] += 1\n",
        "\n",
        "            if((vetor_resposta == vetor_final).all()):\n",
        "                break\n",
        "\n",
        "\n",
        "print(\"ACABOU!\")"
      ],
      "execution_count": 13,
      "outputs": [
        {
          "output_type": "stream",
          "text": [
            "ACABOU!\n"
          ],
          "name": "stdout"
        }
      ]
    },
    {
      "cell_type": "markdown",
      "metadata": {
        "id": "z1RzZuFLBBoF",
        "colab_type": "text"
      },
      "source": [
        "## Calculo da Média e Desvio padrão dos ajustes e épocas"
      ]
    },
    {
      "cell_type": "code",
      "metadata": {
        "tags": [],
        "id": "wWcuG2B1BBoI",
        "colab_type": "code",
        "colab": {}
      },
      "source": [
        "# Media e desvio padrao dos ajustes\n",
        "ajuste_vetor_medias = np.zeros(9)\n",
        "ajuste_vetor_desvio_padrao = np.empty(9)\n",
        "\n",
        "#Media e desvio padrao da epoca\n",
        "epoca_vetor_medias = np.empty(9)\n",
        "epoca_vetor_desvio_padrao = np.empty(9)\n",
        "\n",
        "for i in range(len(vetor_epoca)):\n",
        "    ajuste_vetor_medias[i] = np.mean(vetor_mudanca_peso[i])\n",
        "    ajuste_vetor_desvio_padrao[i] = np.std(vetor_mudanca_peso[i])\n",
        "\n",
        "    epoca_vetor_medias[i] = np.mean(vetor_epoca[i])\n",
        "    epoca_vetor_desvio_padrao[i] = np.std(vetor_epoca[i])"
      ],
      "execution_count": 14,
      "outputs": []
    },
    {
      "cell_type": "markdown",
      "metadata": {
        "id": "KbSKWaN_FJL7",
        "colab_type": "text"
      },
      "source": [
        "## Tabela de Média e Desvio padrão dos ajustes totais e épocas"
      ]
    },
    {
      "cell_type": "code",
      "metadata": {
        "id": "O6nmPrJWCw76",
        "colab_type": "code",
        "colab": {
          "base_uri": "https://localhost:8080/",
          "height": 238
        },
        "outputId": "5acdc68f-b2ee-436e-84b3-7da44df59b0b"
      },
      "source": [
        "from prettytable import PrettyTable\n",
        "\n",
        "# Cria a tabela\n",
        "x = PrettyTable([\"Configuração\", \"Média de épocas\", \"Desvio de épocas\",\n",
        "                 \"Média de ajustes totais\", \"Desvio de ajustes totais\"])\n",
        "\n",
        "x.padding_width = 1\n",
        "\n",
        "for i in range(len(epoca_vetor_medias)):\n",
        "  x.add_row([configuracoes[i], round(epoca_vetor_medias[i]), round(epoca_vetor_desvio_padrao[i],4), \n",
        "             round(ajuste_vetor_medias[i]), round(ajuste_vetor_desvio_padrao[i],4)])\n",
        "\n",
        "print(x)"
      ],
      "execution_count": 21,
      "outputs": [
        {
          "output_type": "stream",
          "text": [
            "+-----------------+-----------------+------------------+-------------------------+--------------------------+\n",
            "|   Configuração  | Média de épocas | Desvio de épocas | Média de ajustes totais | Desvio de ajustes totais |\n",
            "+-----------------+-----------------+------------------+-------------------------+--------------------------+\n",
            "|   [-40.  40.]   |       30.0      |     21.8851      |          548.0          |         332.6902         |\n",
            "|   [-10.  10.]   |       11.0      |      5.7635      |          162.0          |          90.539          |\n",
            "|    [-1.  1.]    |       6.0       |      1.8485      |           22.0          |         11.5822          |\n",
            "|   [-0.4  0.4]   |       6.0       |      2.2462      |           14.0          |          6.9884          |\n",
            "|   [-0.1  0.1]   |       7.0       |      2.0023      |           12.0          |          4.7596          |\n",
            "|  [-0.01  0.01]  |       5.0       |      0.4795      |           9.0           |          0.9848          |\n",
            "|   [-0.2  0.2]   |       6.0       |      1.8613      |           11.0          |          5.2973          |\n",
            "|  [-0.05  0.05]  |       6.0       |      1.8815      |           11.0          |          4.4609          |\n",
            "| [-0.005  0.005] |       5.0       |      0.4024      |           9.0           |          0.4359          |\n",
            "+-----------------+-----------------+------------------+-------------------------+--------------------------+\n"
          ],
          "name": "stdout"
        }
      ]
    },
    {
      "cell_type": "markdown",
      "metadata": {
        "id": "qFexs4FbH7Lu",
        "colab_type": "text"
      },
      "source": [
        "# Discução sobre o obtido\n",
        "#### É possivel perceber que para o algoritmo apresentado, e para as configurações obtidas, houve uma certa discrepância entre as diferentes ocasiões de teste (mesmo que todas tenham levado a convergência). Pode-se notar que a configuração: `[-0.005  0.005]` houve a menor media de epocas e ajustes que indicam uma possivel melhor escolha para o treinamento e tambem possui os menores valores para os desvios padrao indicando que os valores testados não se diferem tando assim da media apresentada. No entando sabe-se que para uma amostra linearmente separavel o resultado sempre convirgirá sendo assim equivalentes todos os resutados. Por fim apenas para fins exemplicativos aponta-se a configuração `[-40.  40.]` como sendo a mais \"ruim\" e a `[-0.005  0.005]` mais \"adequada\".\n"
      ]
    },
    {
      "cell_type": "markdown",
      "metadata": {
        "id": "pOYs5R7KBBoK",
        "colab_type": "text"
      },
      "source": [
        "## Plot do gráfico"
      ]
    }
  ]
}