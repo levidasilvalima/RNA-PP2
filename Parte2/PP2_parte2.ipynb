{
 "metadata": {
  "language_info": {
   "codemirror_mode": {
    "name": "ipython",
    "version": 3
   },
   "file_extension": ".py",
   "mimetype": "text/x-python",
   "name": "python",
   "nbconvert_exporter": "python",
   "pygments_lexer": "ipython3",
   "version": "3.7.4-final"
  },
  "orig_nbformat": 2,
  "kernelspec": {
   "name": "python37464bit286065bc8b1e4c1480c2b405bd71233c",
   "display_name": "Python 3.7.4 64-bit"
  }
 },
 "nbformat": 4,
 "nbformat_minor": 2,
 "cells": [
  {
   "cell_type": "markdown",
   "metadata": {},
   "source": [
    "# PP2 - Parte 2"
   ]
  },
  {
   "cell_type": "markdown",
   "metadata": {},
   "source": [
    "## Import das bibliotecas"
   ]
  },
  {
   "cell_type": "code",
   "execution_count": 1,
   "metadata": {
    "tags": []
   },
   "outputs": [],
   "source": [
    "import numpy as np\n",
    "import random\n",
    "import\n",
    "import matplotlib.pyplot as plt"
   ]
  },
  {
   "cell_type": "markdown",
   "metadata": {},
   "source": [
    "## Import do arquivo a ser usado"
   ]
  },
  {
   "cell_type": "code",
   "execution_count": 2,
   "metadata": {
    "tags": []
   },
   "outputs": [],
   "source": [
    "dados_brutos = np.fromfile('./data2.txt')\n"
   ]
  },
  {
   "cell_type": "markdown",
   "metadata": {},
   "source": [
    "## Organização dos dados"
   ]
  },
  {
   "cell_type": "code",
   "execution_count": 3,
   "metadata": {
    "tags": []
   },
   "outputs": [],
   "source": [
    "dados = dados_brutos.reshape((600,3))\n",
    "dados = dados.transpose()\n",
    "\n",
    "# print(len(dados))\n",
    "\n",
    "vetor1 = np.array(dados[0])\n",
    "vetor2 = np.array(dados[1])\n",
    "vetor_resposta = np.array(dados[2])\n",
    "x0 = -1\n"
   ]
  },
  {
   "cell_type": "markdown",
   "metadata": {},
   "source": [
    "## Inicialização das configurações a serem usadas"
   ]
  },
  {
   "cell_type": "code",
   "execution_count": 4,
   "metadata": {
    "tags": []
   },
   "outputs": [
    {
     "output_type": "stream",
     "name": "stdout",
     "text": "Configurações:  [[-4.e+01  4.e+01]\n [-1.e+01  1.e+01]\n [-1.e+00  1.e+00]\n [-4.e-01  4.e-01]\n [-1.e-01  1.e-01]\n [-1.e-02  1.e-02]\n [-2.e-01  2.e-01]\n [-5.e-02  5.e-02]\n [-5.e-03  5.e-03]]\nPesos:  [[ 0.00000000e+000              nan  1.55419307e-311]\n [ 0.00000000e+000  3.67189588e-320  5.43472210e-323]\n [ 1.55418050e-311  1.55418921e-311  2.32210854e-322]\n [ 0.00000000e+000              nan  1.55419307e-311]\n [-1.02533763e-277  1.55418050e-311  3.70746861e-320]\n [ 2.96439388e-323  1.55418050e-311  1.55418921e-311]\n [ 4.94065646e-324  0.00000000e+000              nan]\n [ 1.55419307e-311  0.00000000e+000  3.74699386e-320]\n [ 5.43472210e-323  1.55418050e-311  1.55418921e-311]]\n"
    }
   ],
   "source": [
    "# Distribuição uniforme aleatório dos pesos,\n",
    "# Produto cartesiano a ser feito\n",
    "pes = np.array([0.4, 0.1, 0.01])\n",
    "aleatorio = np.array([[-100,100], [-1, 1], [-0.5, 0.5]])\n",
    "\n",
    "# Vetores vazios que serão adicionados\n",
    "configuracoes = np.array([]).reshape(0, 2)\n",
    "vetor_peso = np.empty([9, 3])\n",
    "\n",
    "for i in range(3):\n",
    "    for j in range(3):\n",
    "        config = aleatorio[i] * pes[j] # Produto cartesiano\n",
    "        # print(config)\n",
    "\n",
    "        # Adicionar ao vetor de configurações possíveis\n",
    "        configuracoes = np.vstack((configuracoes, config))\n",
    "\n",
    "        #Adicionar ao vetor de pesos aleatórios\n",
    "        # vetor_peso = np.vstack((vetor_peso, np.random.uniform(config[0], config[1], 3)))\n",
    "\n",
    "print(\"Configurações: \", configuracoes)\n",
    "# print(\"Pesos: \", vetor_peso)"
   ]
  },
  {
   "cell_type": "markdown",
   "metadata": {},
   "source": [
    "## Função de ativação"
   ]
  },
  {
   "cell_type": "code",
   "execution_count": 5,
   "metadata": {},
   "outputs": [],
   "source": [
    "#Função de ativação tipo degrau, com v = 0\n",
    "def funcao_ativacao(saida):\n",
    "    if saida >= 0:\n",
    "        return 1\n",
    "    else:\n",
    "        return 0\n",
    "        "
   ]
  },
  {
   "cell_type": "markdown",
   "metadata": {},
   "source": [
    "## Principal - Aprendizado"
   ]
  },
  {
   "cell_type": "code",
   "execution_count": 7,
   "metadata": {
    "tags": []
   },
   "outputs": [
    {
     "output_type": "stream",
     "name": "stdout",
     "text": "acabou!\n"
    }
   ],
   "source": [
    "res_temp = 0                  # Int temporário que vai guardar o res para funcao de ativacao\n",
    "vetor_final = np.empty(600)  # Vetor que será comparado com o resultado\n",
    "\n",
    "n = 0.1             # Taxa de aprendizado\n",
    "mudanca_peso = 0    # N de ajustes de peso\n",
    "mudanca_total = 0   # N total de ajustes de peso\n",
    "epoca = 0           # Epocas de ajuste\n",
    "\n",
    "vetor_epoca = np.zeros([9, 100], dtype=int)           # Vetor das epocas\n",
    "vetor_mudanca_peso = np.zeros([9, 100], dtype=int)    # Vetor dos ajustes totais\n",
    "# vetor_mudanca_total = np.empty([1, 9], dtype=int)     # Vetor dos pesos totais\n",
    "\n",
    "fa = 0              # Funcao de ativacao\n",
    "\n",
    "# No caso do pp2, vai repetir 9 vezes\n",
    "for possibilidades in range(len(configuracoes)):\n",
    "\n",
    "    #Repetir 100 vezes para gerar dados\n",
    "    for instancia in range(100):\n",
    "\n",
    "        vetor_peso[possibilidades] = np.random.uniform(configuracoes[possibilidades][0], configuracoes[possibilidades][1], 3) \n",
    "\n",
    "        #Ele só para quando o vetor de respostas for igual ao vetor final\n",
    "        while(True):\n",
    "\n",
    "            #Repetir pela quantidade de vezes que tiver nos dados\n",
    "            for i in range(len(dados[0])):\n",
    "\n",
    "                # Soma dos produtos\n",
    "                vetor_res_temp = (x0 * vetor_peso[possibilidades][0]) + (vetor1[i] * vetor_peso[possibilidades][1]) + (vetor2[i] * vetor_peso[possibilidades][2])\n",
    "\n",
    "                # funcao de ativacao\n",
    "                fa = funcao_ativacao(vetor_res_temp)\n",
    "\n",
    "                vetor_final[i] = fa\n",
    "\n",
    "                if (fa != vetor_resposta[i]): #Se estiver errado\n",
    "\n",
    "                    #Erro é (esperado - funcao ativacao)\n",
    "                    erro = vetor_resposta[i] - fa\n",
    "\n",
    "                    valor_anterior = np.array([x0, vetor1[i], vetor2[i]])\n",
    "                    #Ajuste de peso\n",
    "                    vetor_peso[possibilidades] = vetor_peso[possibilidades] + (n*erro*valor_anterior)\n",
    "\n",
    "                    #Adicionar quantidade de mudanças totais\n",
    "                    vetor_mudanca_peso[possibilidades][instancia] += 1\n",
    "\n",
    "            #Adicionar quantas epocas houveram\n",
    "            vetor_epoca[possibilidades][instancia] += 1\n",
    "\n",
    "            if((vetor_resposta == vetor_final).all()):\n",
    "                break\n",
    "\n",
    "\n",
    "print(\"acabou!\")\n",
    "# Se for true, quer dizer que os dois são iguais, chegou a uma convergência\n",
    "# print((vetor_resposta == vetor_final).all())\n"
   ]
  },
  {
   "cell_type": "markdown",
   "metadata": {},
   "source": [
    "## Calculo da Média e Desvio padrão dos ajustes e épocas"
   ]
  },
  {
   "cell_type": "code",
   "execution_count": 23,
   "metadata": {
    "tags": []
   },
   "outputs": [
    {
     "output_type": "stream",
     "name": "stdout",
     "text": "[[ 456  917   84  963  853  903 1070  285  698  954  713  463  898  815\n  1393 1080 1205  845  148  856 1017   73  792  757  894 1003    7 1179\n  1171  910  263  410 1297  237  777  179  334  210  993  424  674  694\n   622  830  738  419  191  345  748  652  746  445  550  374 1120  136\n   433  560  862  675  385  640  702  452  811 1049  288  506  690  271\n   766  199  999  401  553  719  681  256  589  993  234  757  660  174\n   318  184  193  511  103  664  777  386  173  753  933  509  733  275\n   708  246]\n [ 177  191  196  317  250  100  218   34  119  126  182   78   40  179\n    34   56  155  241   96   36  253  138   91  164  247  193  146   18\n   215  111  100   69  140  165   69  199  344  190  266  229  225  270\n   137   36   88  153  128  170  154   21  190  227  109  107   41  257\n   162   89  205  230   53  215   84    0  374   75   88   19  375   57\n    56  144    8  262  267  182  126  274   11  305  161   96  126  183\n   123  227   87  330  108  239  255   71   76  154  357  108  189  249\n   117  145]\n [  17   26    8   31   17   10   11   39   25   18   13   57   14   16\n    25    5   14   17    5    5   23   27   10   12   10   11   14   27\n    27   30   23   21   22    7   21    6   22   22   33   30   40   22\n    15   29   15   20   18   25   17    1   34   23   14   28   25   20\n     3   19   34   15    1   24    8   13   18   28   14   48   21   25\n    20   14   42   26    2   30   39   24   42    7   25    3   18   32\n    22   28   28   13   18   29   20   21    8   17   21   16   28   28\n     5   15]\n [  15    8   21   18    9   16   13   11   26    9    6   24   21    3\n    15    3    9   16   11   14   11    7    7   16   13    1   11   26\n    16    5    6    8   17   22    6   16   11    5    9   11    7   28\n    23   15   25    8   21   16   12    8   12    5    4   18    7   15\n    12   14    9   17   25    8   17   16    7   11   25   10   23    9\n    14   25   17   23    5   16   10   11   15   12    5   21   10    7\n    12    7   29   20    5   26    8   22   11    5    7    8   15   13\n    18   22]\n [   6   10   11   15   11    6   10    9    8   10    9   11    7    6\n     5    4    2   10   14   13   14   10   11    4   17   16   11   12\n    12    6   11    8   16    5   16    7   20    9    8    6   11   17\n    14   18    8   18    7    5    6    6   13   10    8    9   16   14\n     4   14    9   20   15   18   14   10    8    3   11    8    7    6\n     6    7    7   19   19   14    7   10    6    5    5   15   20    8\n    12   15   15   13    4    5   10   16   14   14    4    6    7    9\n    18    7]\n [   9    9    9    9    9    9    9    9    9    9    9    9    9    9\n     9    9    9   11    9    9    9    9    9    9    9    9   13   11\n     9    9    9    9   11    9    9    9   11    9    9    9   11    9\n    11    9    9    9    9    9    9    9    9    9    9    9    9    9\n     9    9    9    9   11    9    9   11    9    9    9    9    9    9\n     9    9    9    9    9    9    9    9    9    9    9    9    9    9\n     9    9    9    9    9    9    9    9   11    9    9    9    9    9\n     9    9]\n [   7   12   17   14    8    6   12   12   12   14   15   16   19   16\n    18   19    2    9   21   14   17    4    7   13   20    5   23   12\n    11    7   15   12   22   18   19   11    7   16    6   17    5    9\n     7    9   15   11   12   13    0   11   15    4    9   12    4   18\n    12   10   14   21   13   15    6    8    5   13   18   18   18   10\n    18    3   13   10   12    9    8   17    6   19    5   13    8   13\n    20   11    9    3   13   12   24   19   12    5   17   14   12   14\n     9   18]\n [  13   15   17    9   17    9    5   17   15   17   13    4    9   13\n    17    9   17   13   24    9    5   13    4    9    9    4   15   13\n     9   17    9   17    9   13    9    9    9    7   13   13   17    9\n    17   17   17    9    5    9   11   22    9    7   11   13   16    9\n    18   22    9    9    9    7    9    9   21   13    7   17   13    7\n     9   13   11    9   11    9    5    9    9   15    9   11   17   15\n    17   13   13    4   13   17   17    6    9   17    4    7    5   13\n     4    9]\n [   9    9    9    9    9    9    9    9    9    9    9    9    9    9\n     9    9    9    9   11    9    9    9    9    9    9    9    9    9\n     9    9    9    9    9    9    9    9    9    9    9    9    9    9\n     9    9    9    9    9    9    9    9    9   11    9    9    9    9\n     9    9   11    9    9    9    9    9    9    9    9    9    9    9\n     9    9    9    9    9    9   11    9    9    9    9    9    9    9\n     9    9    9   11    9    9    9    9    9    9    9    9    9    9\n     9    9]]\n[[45 11 15 13 36 32 66 15 39 11 55 59 37 11 33 12 17 26 74 10 11 20 35 14\n  69 35  8 36 58 11 68 23 44 17 10 39 13  8 94 49 72 15 11 95 24 43 10 17\n  71 28 15 31 36 12 11 55 88 78 28 87 15 75 13 11 32 33  9 51 87  7 10 16\n  93 12 15 62 87 22 34 11  8 19  9 17 14 18  7 96 30 13 13 13 13 33 87 10\n  14 57 46 22]\n [14 12 16  9 19  8 12  8  4  8 11  7  7 10  7  8 13 12  8  5 10 19 12  9\n   8 12 10  3 12 12  9 10  7 13 10 11 11  8 12 11 11 11  7  3  8 14 12 10\n  20  7 14 10 13  8  4 13  9  5 23  9  7 11 12  1 11  3 12  9 10  7  3 23\n   8 25 10 10  7 20 10 12  8 19 24  9 14 10  8  9 10 24  8 21  7 23 10  5\n  20 25 10  9]\n [ 5  6  3  6  6  3  2  9  7  4  4 11  5  5  6  3  6  8  3  2  5  6  2  5\n   2  4  5  8  5  8  6  5  5  5  5  3  7  5  9  9  9  7  6  7  5  5  6  6\n   4  2 10  7  5  6  6  5  2  5  9  5  2  5  3  4  5  6  5  7  5  7 10  5\n   8  6  2  7 10  6 10  3  6  2  7  7  6 10  6  2  5  6  7  7  4  5  5  5\n   6  6  2  5]\n [ 7  4  8  6  4  6  8  4 10  6  5  8  9  3  5  2  5  7  5  7  6  4  4  7\n   5  2  5  9  7  3  4  5  8  8  4  6  6  3  4  6  4 10  8  6  9  5  6  5\n   6  5  5  3  4  6  5  7  7  6  5  6  9  5  9  5  3  6  7  5 10  6  7 10\n   5  9  4  6  7  7  5  7  3  9  4  5  6  5 11  5  3  7  5 10  4  4  3  6\n   7  5  8  8]\n [ 5  5  7  8  6  5  7  5  5  6  5  6  5  5  4  4  2  5  7  7  7  6  6  4\n   9  7  6  7  6  4  6  5  8  4  8  4 10  5  5  5  5  9  7  7  5  8  5  4\n   5  5  7  5  5  5  7  6  4  7  5  9  8  9  8  5  5  3  5  6  4  5  4  4\n   5  9 10  7  4  5  4  4  4  8 10  5  6  7  7  6  4  3  5  7  7  7  3  4\n   4  5  8  4]\n [ 5  5  5  5  5  5  5  5  5  5  5  5  5  5  5  5  5  6  5  5  5  5  5  5\n   5  5  7  6  5  5  5  5  7  5  5  5  7  5  5  5  6  5  6  5  5  5  5  5\n   5  5  5  5  5  5  5  5  5  5  5  5  7  5  5  7  5  5  5  5  5  5  5  5\n   5  5  5  5  5  5  5  5  5  5  5  5  5  5  5  5  5  5  5  5  7  5  5  5\n   5  5  5  5]\n [ 5  6 10  8  5  5  7  5  5  8  7  8  8  7  9  8  3  5 10  7  7  3  4  7\n  11  4 10  5  5  4  7  5  9 10 10  6  5  7  4  8  4  5  5  5  7  5  8  5\n   1  5  7  2  5  5  4  6  5  5  6 11  5  6  4  5  4  5  9  9  9  6  9  3\n   6  5  5  5  5  7  4  9  4  8  4  7  9  5  5  3  7  5 10  8  7  4  7  6\n   7  8  5  9]\n [ 7  9  9  5  9  5  4  8  7  9  6  4  5  7  9  5  9  7 11  5  4  7  4  5\n   5  4  7  7  5  9  5  9  5  7  6  5  5  4  7  7  9  5  8  8  9  5  4  5\n   6 11  5  4  6  7  8  6  9 11  5  5  5  4  5  5 11  6  4  9  6  4  6  7\n   6  6  6  5  4  6  5  9  5  6  9  7  8  7  7  4  7  8  8  4  5  8  4  4\n   4  7  4  5]\n [ 5  5  5  5  5  5  5  5  5  5  5  5  5  5  5  5  5  5  7  5  5  5  5  5\n   5  5  5  5  5  5  5  5  5  5  5  5  5  5  5  5  5  5  5  5  5  5  5  5\n   5  5  5  6  5  5  5  5  5  5  7  5  5  5  5  5  5  5  5  5  5  5  5  5\n   5  5  5  5  7  5  5  5  5  5  5  5  5  5  5  7  5  5  5  5  5  5  5  5\n   5  5  5  5]]\n"
    }
   ],
   "source": [
    "#Vetor das 100 mudancas e epocas\n",
    "print(vetor_mudanca_peso)\n",
    "print(vetor_epoca)"
   ]
  },
  {
   "cell_type": "code",
   "execution_count": 10,
   "metadata": {
    "tags": []
   },
   "outputs": [
    {
     "output_type": "stream",
     "name": "stdout",
     "text": "[615.81 155.47  20.29  13.38  10.4    9.22  12.26  11.56   9.1 ]\n[317.20260702  88.60016422  10.45781526   6.63593249   4.50998891\n   0.68673139   5.18385957   4.54823043   0.43588989]\n[33.4  11.02  5.55  5.93  5.79  5.16  6.21  6.33  5.09]\n[26.02806178  5.1729682   2.11837202  1.99125589  1.69879369  0.50438081\n  2.08468223  1.90291881  0.40236799]\n"
    }
   ],
   "source": [
    "# Media e desvio padrao dos ajustes\n",
    "ajuste_vetor_medias = np.zeros(9)\n",
    "ajuste_vetor_desvio_padrao = np.empty(9)\n",
    "\n",
    "#Media e desvio padrao da epoca\n",
    "epoca_vetor_medias = np.empty(9)\n",
    "epoca_vetor_desvio_padrao = np.empty(9)\n",
    "\n",
    "for i in range(len(vetor_epoca)):\n",
    "    ajuste_vetor_medias[i] = np.mean(vetor_mudanca_peso[i])\n",
    "    ajuste_vetor_desvio_padrao[i] = np.std(vetor_mudanca_peso[i])\n",
    "\n",
    "    epoca_vetor_medias[i] = np.mean(vetor_epoca[i])\n",
    "    epoca_vetor_desvio_padrao[i] = np.std(vetor_epoca[i])\n",
    "\n",
    "\n",
    "print(ajuste_vetor_medias)\n",
    "print(ajuste_vetor_desvio_padrao)\n",
    "\n",
    "print(epoca_vetor_medias)\n",
    "print(epoca_vetor_desvio_padrao)"
   ]
  },
  {
   "cell_type": "markdown",
   "metadata": {},
   "source": [
    "## Plot do gráfico"
   ]
  },
  {
   "cell_type": "code",
   "execution_count": 24,
   "metadata": {
    "tags": []
   },
   "outputs": [
    {
     "output_type": "stream",
     "name": "stdout",
     "text": "[ 456  917   84  963  853  903 1070  285  698  954  713  463  898  815\n 1393 1080 1205  845  148  856 1017   73  792  757  894 1003    7 1179\n 1171  910  263  410 1297  237  777  179  334  210  993  424  674  694\n  622  830  738  419  191  345  748  652  746  445  550  374 1120  136\n  433  560  862  675  385  640  702  452  811 1049  288  506  690  271\n  766  199  999  401  553  719  681  256  589  993  234  757  660  174\n  318  184  193  511  103  664  777  386  173  753  933  509  733  275\n  708  246]\n"
    },
    {
     "output_type": "execute_result",
     "data": {
      "text/plain": "(array([ 5., 16., 11., 12., 12., 18., 12.,  8.,  4.,  2.]),\n array([   7. ,  145.6,  284.2,  422.8,  561.4,  700. ,  838.6,  977.2,\n        1115.8, 1254.4, 1393. ]),\n <a list of 10 Patch objects>)"
     },
     "metadata": {},
     "execution_count": 24
    },
    {
     "output_type": "display_data",
     "data": {
      "image/png": "[encoded data removed]",
      "text/plain": "<Figure size 432x288 with 1 Axes>",
      "image/svg+xml": "<?xml version=\"1.0\" encoding=\"utf-8\" standalone=\"no\"?>\r\n<!DOCTYPE svg PUBLIC \"-//W3C//DTD SVG 1.1//EN\"\r\n  \"http://www.w3.org/Graphics/SVG/1.1/DTD/svg11.dtd\">\r\n<!-- Created with matplotlib (https://matplotlib.org/) -->\r\n<svg height=\"248.518125pt\" version=\"1.1\" viewBox=\"0 0 378.465625 248.518125\" width=\"378.465625pt\" xmlns=\"http://www.w3.org/2000/svg\" xmlns:xlink=\"http://www.w3.org/1999/xlink\">\r\n <defs>\r\n  <style type=\"text/css\">\r\n*{stroke-linecap:butt;stroke-linejoin:round;}\r\n  </style>\r\n </defs>\r\n <g id=\"figure_1\">\r\n  <g id=\"patch_1\">\r\n   <path d=\"M 0 248.518125 \r\nL 378.465625 248.518125 \r\nL 378.465625 0 \r\nL 0 0 \r\nz\r\n\" style=\"fill:none;\"/>\r\n  </g>\r\n  <g id=\"axes_1\">\r\n   <g id=\"patch_2\">\r\n    <path d=\"M 36.465625 224.64 \r\nL 371.265625 224.64 \r\nL 371.265625 7.2 \r\nL 36.465625 7.2 \r\nz\r\n\" style=\"fill:#ffffff;\"/>\r\n   </g>\r\n   <g id=\"patch_3\">\r\n    <path clip-path=\"url(#pe2b4c8c80e)\" d=\"M 51.683807 224.64 \r\nL 82.12017 224.64 \r\nL 82.12017 167.11619 \r\nL 51.683807 167.11619 \r\nz\r\n\" style=\"fill:#1f77b4;\"/>\r\n   </g>\r\n   <g id=\"patch_4\">\r\n    <path clip-path=\"url(#pe2b4c8c80e)\" d=\"M 82.12017 224.64 \r\nL 112.556534 224.64 \r\nL 112.556534 40.56381 \r\nL 82.12017 40.56381 \r\nz\r\n\" style=\"fill:#1f77b4;\"/>\r\n   </g>\r\n   <g id=\"patch_5\">\r\n    <path clip-path=\"url(#pe2b4c8c80e)\" d=\"M 112.556534 224.64 \r\nL 142.992898 224.64 \r\nL 142.992898 98.087619 \r\nL 112.556534 98.087619 \r\nz\r\n\" style=\"fill:#1f77b4;\"/>\r\n   </g>\r\n   <g id=\"patch_6\">\r\n    <path clip-path=\"url(#pe2b4c8c80e)\" d=\"M 142.992898 224.64 \r\nL 173.429261 224.64 \r\nL 173.429261 86.582857 \r\nL 142.992898 86.582857 \r\nz\r\n\" style=\"fill:#1f77b4;\"/>\r\n   </g>\r\n   <g id=\"patch_7\">\r\n    <path clip-path=\"url(#pe2b4c8c80e)\" d=\"M 173.429261 224.64 \r\nL 203.865625 224.64 \r\nL 203.865625 86.582857 \r\nL 173.429261 86.582857 \r\nz\r\n\" style=\"fill:#1f77b4;\"/>\r\n   </g>\r\n   <g id=\"patch_8\">\r\n    <path clip-path=\"url(#pe2b4c8c80e)\" d=\"M 203.865625 224.64 \r\nL 234.301989 224.64 \r\nL 234.301989 17.554286 \r\nL 203.865625 17.554286 \r\nz\r\n\" style=\"fill:#1f77b4;\"/>\r\n   </g>\r\n   <g id=\"patch_9\">\r\n    <path clip-path=\"url(#pe2b4c8c80e)\" d=\"M 234.301989 224.64 \r\nL 264.738352 224.64 \r\nL 264.738352 86.582857 \r\nL 234.301989 86.582857 \r\nz\r\n\" style=\"fill:#1f77b4;\"/>\r\n   </g>\r\n   <g id=\"patch_10\">\r\n    <path clip-path=\"url(#pe2b4c8c80e)\" d=\"M 264.738352 224.64 \r\nL 295.174716 224.64 \r\nL 295.174716 132.601905 \r\nL 264.738352 132.601905 \r\nz\r\n\" style=\"fill:#1f77b4;\"/>\r\n   </g>\r\n   <g id=\"patch_11\">\r\n    <path clip-path=\"url(#pe2b4c8c80e)\" d=\"M 295.174716 224.64 \r\nL 325.61108 224.64 \r\nL 325.61108 178.620952 \r\nL 295.174716 178.620952 \r\nz\r\n\" style=\"fill:#1f77b4;\"/>\r\n   </g>\r\n   <g id=\"patch_12\">\r\n    <path clip-path=\"url(#pe2b4c8c80e)\" d=\"M 325.61108 224.64 \r\nL 356.047443 224.64 \r\nL 356.047443 201.630476 \r\nL 325.61108 201.630476 \r\nz\r\n\" style=\"fill:#1f77b4;\"/>\r\n   </g>\r\n   <g id=\"matplotlib.axis_1\">\r\n    <g id=\"xtick_1\">\r\n     <g id=\"line2d_1\">\r\n      <defs>\r\n       <path d=\"M 0 0 \r\nL 0 3.5 \r\n\" id=\"m9f7ea83e0a\" style=\"stroke:#000000;stroke-width:0.8;\"/>\r\n      </defs>\r\n      <g>\r\n       <use style=\"stroke:#000000;stroke-width:0.8;\" x=\"50.146617\" xlink:href=\"#m9f7ea83e0a\" y=\"224.64\"/>\r\n      </g>\r\n     </g>\r\n     <g id=\"text_1\">\r\n      <!-- 0 -->\r\n      <defs>\r\n       <path d=\"M 31.78125 66.40625 \r\nQ 24.171875 66.40625 20.328125 58.90625 \r\nQ 16.5 51.421875 16.5 36.375 \r\nQ 16.5 21.390625 20.328125 13.890625 \r\nQ 24.171875 6.390625 31.78125 6.390625 \r\nQ 39.453125 6.390625 43.28125 13.890625 \r\nQ 47.125 21.390625 47.125 36.375 \r\nQ 47.125 51.421875 43.28125 58.90625 \r\nQ 39.453125 66.40625 31.78125 66.40625 \r\nz\r\nM 31.78125 74.21875 \r\nQ 44.046875 74.21875 50.515625 64.515625 \r\nQ 56.984375 54.828125 56.984375 36.375 \r\nQ 56.984375 17.96875 50.515625 8.265625 \r\nQ 44.046875 -1.421875 31.78125 -1.421875 \r\nQ 19.53125 -1.421875 13.0625 8.265625 \r\nQ 6.59375 17.96875 6.59375 36.375 \r\nQ 6.59375 54.828125 13.0625 64.515625 \r\nQ 19.53125 74.21875 31.78125 74.21875 \r\nz\r\n\" id=\"DejaVuSans-48\"/>\r\n      </defs>\r\n      <g transform=\"translate(46.965367 239.238437)scale(0.1 -0.1)\">\r\n       <use xlink:href=\"#DejaVuSans-48\"/>\r\n      </g>\r\n     </g>\r\n    </g>\r\n    <g id=\"xtick_2\">\r\n     <g id=\"line2d_2\">\r\n      <g>\r\n       <use style=\"stroke:#000000;stroke-width:0.8;\" x=\"94.066333\" xlink:href=\"#m9f7ea83e0a\" y=\"224.64\"/>\r\n      </g>\r\n     </g>\r\n     <g id=\"text_2\">\r\n      <!-- 200 -->\r\n      <defs>\r\n       <path d=\"M 19.1875 8.296875 \r\nL 53.609375 8.296875 \r\nL 53.609375 0 \r\nL 7.328125 0 \r\nL 7.328125 8.296875 \r\nQ 12.9375 14.109375 22.625 23.890625 \r\nQ 32.328125 33.6875 34.8125 36.53125 \r\nQ 39.546875 41.84375 41.421875 45.53125 \r\nQ 43.3125 49.21875 43.3125 52.78125 \r\nQ 43.3125 58.59375 39.234375 62.25 \r\nQ 35.15625 65.921875 28.609375 65.921875 \r\nQ 23.96875 65.921875 18.8125 64.3125 \r\nQ 13.671875 62.703125 7.8125 59.421875 \r\nL 7.8125 69.390625 \r\nQ 13.765625 71.78125 18.9375 73 \r\nQ 24.125 74.21875 28.421875 74.21875 \r\nQ 39.75 74.21875 46.484375 68.546875 \r\nQ 53.21875 62.890625 53.21875 53.421875 \r\nQ 53.21875 48.921875 51.53125 44.890625 \r\nQ 49.859375 40.875 45.40625 35.40625 \r\nQ 44.1875 33.984375 37.640625 27.21875 \r\nQ 31.109375 20.453125 19.1875 8.296875 \r\nz\r\n\" id=\"DejaVuSans-50\"/>\r\n      </defs>\r\n      <g transform=\"translate(84.522583 239.238437)scale(0.1 -0.1)\">\r\n       <use xlink:href=\"#DejaVuSans-50\"/>\r\n       <use x=\"63.623047\" xlink:href=\"#DejaVuSans-48\"/>\r\n       <use x=\"127.246094\" xlink:href=\"#DejaVuSans-48\"/>\r\n      </g>\r\n     </g>\r\n    </g>\r\n    <g id=\"xtick_3\">\r\n     <g id=\"line2d_3\">\r\n      <g>\r\n       <use style=\"stroke:#000000;stroke-width:0.8;\" x=\"137.98605\" xlink:href=\"#m9f7ea83e0a\" y=\"224.64\"/>\r\n      </g>\r\n     </g>\r\n     <g id=\"text_3\">\r\n      <!-- 400 -->\r\n      <defs>\r\n       <path d=\"M 37.796875 64.3125 \r\nL 12.890625 25.390625 \r\nL 37.796875 25.390625 \r\nz\r\nM 35.203125 72.90625 \r\nL 47.609375 72.90625 \r\nL 47.609375 25.390625 \r\nL 58.015625 25.390625 \r\nL 58.015625 17.1875 \r\nL 47.609375 17.1875 \r\nL 47.609375 0 \r\nL 37.796875 0 \r\nL 37.796875 17.1875 \r\nL 4.890625 17.1875 \r\nL 4.890625 26.703125 \r\nz\r\n\" id=\"DejaVuSans-52\"/>\r\n      </defs>\r\n      <g transform=\"translate(128.4423 239.238437)scale(0.1 -0.1)\">\r\n       <use xlink:href=\"#DejaVuSans-52\"/>\r\n       <use x=\"63.623047\" xlink:href=\"#DejaVuSans-48\"/>\r\n       <use x=\"127.246094\" xlink:href=\"#DejaVuSans-48\"/>\r\n      </g>\r\n     </g>\r\n    </g>\r\n    <g id=\"xtick_4\">\r\n     <g id=\"line2d_4\">\r\n      <g>\r\n       <use style=\"stroke:#000000;stroke-width:0.8;\" x=\"181.905767\" xlink:href=\"#m9f7ea83e0a\" y=\"224.64\"/>\r\n      </g>\r\n     </g>\r\n     <g id=\"text_4\">\r\n      <!-- 600 -->\r\n      <defs>\r\n       <path d=\"M 33.015625 40.375 \r\nQ 26.375 40.375 22.484375 35.828125 \r\nQ 18.609375 31.296875 18.609375 23.390625 \r\nQ 18.609375 15.53125 22.484375 10.953125 \r\nQ 26.375 6.390625 33.015625 6.390625 \r\nQ 39.65625 6.390625 43.53125 10.953125 \r\nQ 47.40625 15.53125 47.40625 23.390625 \r\nQ 47.40625 31.296875 43.53125 35.828125 \r\nQ 39.65625 40.375 33.015625 40.375 \r\nz\r\nM 52.59375 71.296875 \r\nL 52.59375 62.3125 \r\nQ 48.875 64.0625 45.09375 64.984375 \r\nQ 41.3125 65.921875 37.59375 65.921875 \r\nQ 27.828125 65.921875 22.671875 59.328125 \r\nQ 17.53125 52.734375 16.796875 39.40625 \r\nQ 19.671875 43.65625 24.015625 45.921875 \r\nQ 28.375 48.1875 33.59375 48.1875 \r\nQ 44.578125 48.1875 50.953125 41.515625 \r\nQ 57.328125 34.859375 57.328125 23.390625 \r\nQ 57.328125 12.15625 50.6875 5.359375 \r\nQ 44.046875 -1.421875 33.015625 -1.421875 \r\nQ 20.359375 -1.421875 13.671875 8.265625 \r\nQ 6.984375 17.96875 6.984375 36.375 \r\nQ 6.984375 53.65625 15.1875 63.9375 \r\nQ 23.390625 74.21875 37.203125 74.21875 \r\nQ 40.921875 74.21875 44.703125 73.484375 \r\nQ 48.484375 72.75 52.59375 71.296875 \r\nz\r\n\" id=\"DejaVuSans-54\"/>\r\n      </defs>\r\n      <g transform=\"translate(172.362017 239.238437)scale(0.1 -0.1)\">\r\n       <use xlink:href=\"#DejaVuSans-54\"/>\r\n       <use x=\"63.623047\" xlink:href=\"#DejaVuSans-48\"/>\r\n       <use x=\"127.246094\" xlink:href=\"#DejaVuSans-48\"/>\r\n      </g>\r\n     </g>\r\n    </g>\r\n    <g id=\"xtick_5\">\r\n     <g id=\"line2d_5\">\r\n      <g>\r\n       <use style=\"stroke:#000000;stroke-width:0.8;\" x=\"225.825483\" xlink:href=\"#m9f7ea83e0a\" y=\"224.64\"/>\r\n      </g>\r\n     </g>\r\n     <g id=\"text_5\">\r\n      <!-- 800 -->\r\n      <defs>\r\n       <path d=\"M 31.78125 34.625 \r\nQ 24.75 34.625 20.71875 30.859375 \r\nQ 16.703125 27.09375 16.703125 20.515625 \r\nQ 16.703125 13.921875 20.71875 10.15625 \r\nQ 24.75 6.390625 31.78125 6.390625 \r\nQ 38.8125 6.390625 42.859375 10.171875 \r\nQ 46.921875 13.96875 46.921875 20.515625 \r\nQ 46.921875 27.09375 42.890625 30.859375 \r\nQ 38.875 34.625 31.78125 34.625 \r\nz\r\nM 21.921875 38.8125 \r\nQ 15.578125 40.375 12.03125 44.71875 \r\nQ 8.5 49.078125 8.5 55.328125 \r\nQ 8.5 64.0625 14.71875 69.140625 \r\nQ 20.953125 74.21875 31.78125 74.21875 \r\nQ 42.671875 74.21875 48.875 69.140625 \r\nQ 55.078125 64.0625 55.078125 55.328125 \r\nQ 55.078125 49.078125 51.53125 44.71875 \r\nQ 48 40.375 41.703125 38.8125 \r\nQ 48.828125 37.15625 52.796875 32.3125 \r\nQ 56.78125 27.484375 56.78125 20.515625 \r\nQ 56.78125 9.90625 50.3125 4.234375 \r\nQ 43.84375 -1.421875 31.78125 -1.421875 \r\nQ 19.734375 -1.421875 13.25 4.234375 \r\nQ 6.78125 9.90625 6.78125 20.515625 \r\nQ 6.78125 27.484375 10.78125 32.3125 \r\nQ 14.796875 37.15625 21.921875 38.8125 \r\nz\r\nM 18.3125 54.390625 \r\nQ 18.3125 48.734375 21.84375 45.5625 \r\nQ 25.390625 42.390625 31.78125 42.390625 \r\nQ 38.140625 42.390625 41.71875 45.5625 \r\nQ 45.3125 48.734375 45.3125 54.390625 \r\nQ 45.3125 60.0625 41.71875 63.234375 \r\nQ 38.140625 66.40625 31.78125 66.40625 \r\nQ 25.390625 66.40625 21.84375 63.234375 \r\nQ 18.3125 60.0625 18.3125 54.390625 \r\nz\r\n\" id=\"DejaVuSans-56\"/>\r\n      </defs>\r\n      <g transform=\"translate(216.281733 239.238437)scale(0.1 -0.1)\">\r\n       <use xlink:href=\"#DejaVuSans-56\"/>\r\n       <use x=\"63.623047\" xlink:href=\"#DejaVuSans-48\"/>\r\n       <use x=\"127.246094\" xlink:href=\"#DejaVuSans-48\"/>\r\n      </g>\r\n     </g>\r\n    </g>\r\n    <g id=\"xtick_6\">\r\n     <g id=\"line2d_6\">\r\n      <g>\r\n       <use style=\"stroke:#000000;stroke-width:0.8;\" x=\"269.7452\" xlink:href=\"#m9f7ea83e0a\" y=\"224.64\"/>\r\n      </g>\r\n     </g>\r\n     <g id=\"text_6\">\r\n      <!-- 1000 -->\r\n      <defs>\r\n       <path d=\"M 12.40625 8.296875 \r\nL 28.515625 8.296875 \r\nL 28.515625 63.921875 \r\nL 10.984375 60.40625 \r\nL 10.984375 69.390625 \r\nL 28.421875 72.90625 \r\nL 38.28125 72.90625 \r\nL 38.28125 8.296875 \r\nL 54.390625 8.296875 \r\nL 54.390625 0 \r\nL 12.40625 0 \r\nz\r\n\" id=\"DejaVuSans-49\"/>\r\n      </defs>\r\n      <g transform=\"translate(257.0202 239.238437)scale(0.1 -0.1)\">\r\n       <use xlink:href=\"#DejaVuSans-49\"/>\r\n       <use x=\"63.623047\" xlink:href=\"#DejaVuSans-48\"/>\r\n       <use x=\"127.246094\" xlink:href=\"#DejaVuSans-48\"/>\r\n       <use x=\"190.869141\" xlink:href=\"#DejaVuSans-48\"/>\r\n      </g>\r\n     </g>\r\n    </g>\r\n    <g id=\"xtick_7\">\r\n     <g id=\"line2d_7\">\r\n      <g>\r\n       <use style=\"stroke:#000000;stroke-width:0.8;\" x=\"313.664917\" xlink:href=\"#m9f7ea83e0a\" y=\"224.64\"/>\r\n      </g>\r\n     </g>\r\n     <g id=\"text_7\">\r\n      <!-- 1200 -->\r\n      <g transform=\"translate(300.939917 239.238437)scale(0.1 -0.1)\">\r\n       <use xlink:href=\"#DejaVuSans-49\"/>\r\n       <use x=\"63.623047\" xlink:href=\"#DejaVuSans-50\"/>\r\n       <use x=\"127.246094\" xlink:href=\"#DejaVuSans-48\"/>\r\n       <use x=\"190.869141\" xlink:href=\"#DejaVuSans-48\"/>\r\n      </g>\r\n     </g>\r\n    </g>\r\n    <g id=\"xtick_8\">\r\n     <g id=\"line2d_8\">\r\n      <g>\r\n       <use style=\"stroke:#000000;stroke-width:0.8;\" x=\"357.584633\" xlink:href=\"#m9f7ea83e0a\" y=\"224.64\"/>\r\n      </g>\r\n     </g>\r\n     <g id=\"text_8\">\r\n      <!-- 1400 -->\r\n      <g transform=\"translate(344.859633 239.238437)scale(0.1 -0.1)\">\r\n       <use xlink:href=\"#DejaVuSans-49\"/>\r\n       <use x=\"63.623047\" xlink:href=\"#DejaVuSans-52\"/>\r\n       <use x=\"127.246094\" xlink:href=\"#DejaVuSans-48\"/>\r\n       <use x=\"190.869141\" xlink:href=\"#DejaVuSans-48\"/>\r\n      </g>\r\n     </g>\r\n    </g>\r\n   </g>\r\n   <g id=\"matplotlib.axis_2\">\r\n    <g id=\"ytick_1\">\r\n     <g id=\"line2d_9\">\r\n      <defs>\r\n       <path d=\"M 0 0 \r\nL -3.5 0 \r\n\" id=\"m1665a42236\" style=\"stroke:#000000;stroke-width:0.8;\"/>\r\n      </defs>\r\n      <g>\r\n       <use style=\"stroke:#000000;stroke-width:0.8;\" x=\"36.465625\" xlink:href=\"#m1665a42236\" y=\"224.64\"/>\r\n      </g>\r\n     </g>\r\n     <g id=\"text_9\">\r\n      <!-- 0.0 -->\r\n      <defs>\r\n       <path d=\"M 10.6875 12.40625 \r\nL 21 12.40625 \r\nL 21 0 \r\nL 10.6875 0 \r\nz\r\n\" id=\"DejaVuSans-46\"/>\r\n      </defs>\r\n      <g transform=\"translate(13.5625 228.439219)scale(0.1 -0.1)\">\r\n       <use xlink:href=\"#DejaVuSans-48\"/>\r\n       <use x=\"63.623047\" xlink:href=\"#DejaVuSans-46\"/>\r\n       <use x=\"95.410156\" xlink:href=\"#DejaVuSans-48\"/>\r\n      </g>\r\n     </g>\r\n    </g>\r\n    <g id=\"ytick_2\">\r\n     <g id=\"line2d_10\">\r\n      <g>\r\n       <use style=\"stroke:#000000;stroke-width:0.8;\" x=\"36.465625\" xlink:href=\"#m1665a42236\" y=\"195.878095\"/>\r\n      </g>\r\n     </g>\r\n     <g id=\"text_10\">\r\n      <!-- 2.5 -->\r\n      <defs>\r\n       <path d=\"M 10.796875 72.90625 \r\nL 49.515625 72.90625 \r\nL 49.515625 64.59375 \r\nL 19.828125 64.59375 \r\nL 19.828125 46.734375 \r\nQ 21.96875 47.46875 24.109375 47.828125 \r\nQ 26.265625 48.1875 28.421875 48.1875 \r\nQ 40.625 48.1875 47.75 41.5 \r\nQ 54.890625 34.8125 54.890625 23.390625 \r\nQ 54.890625 11.625 47.5625 5.09375 \r\nQ 40.234375 -1.421875 26.90625 -1.421875 \r\nQ 22.3125 -1.421875 17.546875 -0.640625 \r\nQ 12.796875 0.140625 7.71875 1.703125 \r\nL 7.71875 11.625 \r\nQ 12.109375 9.234375 16.796875 8.0625 \r\nQ 21.484375 6.890625 26.703125 6.890625 \r\nQ 35.15625 6.890625 40.078125 11.328125 \r\nQ 45.015625 15.765625 45.015625 23.390625 \r\nQ 45.015625 31 40.078125 35.4375 \r\nQ 35.15625 39.890625 26.703125 39.890625 \r\nQ 22.75 39.890625 18.8125 39.015625 \r\nQ 14.890625 38.140625 10.796875 36.28125 \r\nz\r\n\" id=\"DejaVuSans-53\"/>\r\n      </defs>\r\n      <g transform=\"translate(13.5625 199.677314)scale(0.1 -0.1)\">\r\n       <use xlink:href=\"#DejaVuSans-50\"/>\r\n       <use x=\"63.623047\" xlink:href=\"#DejaVuSans-46\"/>\r\n       <use x=\"95.410156\" xlink:href=\"#DejaVuSans-53\"/>\r\n      </g>\r\n     </g>\r\n    </g>\r\n    <g id=\"ytick_3\">\r\n     <g id=\"line2d_11\">\r\n      <g>\r\n       <use style=\"stroke:#000000;stroke-width:0.8;\" x=\"36.465625\" xlink:href=\"#m1665a42236\" y=\"167.11619\"/>\r\n      </g>\r\n     </g>\r\n     <g id=\"text_11\">\r\n      <!-- 5.0 -->\r\n      <g transform=\"translate(13.5625 170.915409)scale(0.1 -0.1)\">\r\n       <use xlink:href=\"#DejaVuSans-53\"/>\r\n       <use x=\"63.623047\" xlink:href=\"#DejaVuSans-46\"/>\r\n       <use x=\"95.410156\" xlink:href=\"#DejaVuSans-48\"/>\r\n      </g>\r\n     </g>\r\n    </g>\r\n    <g id=\"ytick_4\">\r\n     <g id=\"line2d_12\">\r\n      <g>\r\n       <use style=\"stroke:#000000;stroke-width:0.8;\" x=\"36.465625\" xlink:href=\"#m1665a42236\" y=\"138.354286\"/>\r\n      </g>\r\n     </g>\r\n     <g id=\"text_12\">\r\n      <!-- 7.5 -->\r\n      <defs>\r\n       <path d=\"M 8.203125 72.90625 \r\nL 55.078125 72.90625 \r\nL 55.078125 68.703125 \r\nL 28.609375 0 \r\nL 18.3125 0 \r\nL 43.21875 64.59375 \r\nL 8.203125 64.59375 \r\nz\r\n\" id=\"DejaVuSans-55\"/>\r\n      </defs>\r\n      <g transform=\"translate(13.5625 142.153504)scale(0.1 -0.1)\">\r\n       <use xlink:href=\"#DejaVuSans-55\"/>\r\n       <use x=\"63.623047\" xlink:href=\"#DejaVuSans-46\"/>\r\n       <use x=\"95.410156\" xlink:href=\"#DejaVuSans-53\"/>\r\n      </g>\r\n     </g>\r\n    </g>\r\n    <g id=\"ytick_5\">\r\n     <g id=\"line2d_13\">\r\n      <g>\r\n       <use style=\"stroke:#000000;stroke-width:0.8;\" x=\"36.465625\" xlink:href=\"#m1665a42236\" y=\"109.592381\"/>\r\n      </g>\r\n     </g>\r\n     <g id=\"text_13\">\r\n      <!-- 10.0 -->\r\n      <g transform=\"translate(7.2 113.3916)scale(0.1 -0.1)\">\r\n       <use xlink:href=\"#DejaVuSans-49\"/>\r\n       <use x=\"63.623047\" xlink:href=\"#DejaVuSans-48\"/>\r\n       <use x=\"127.246094\" xlink:href=\"#DejaVuSans-46\"/>\r\n       <use x=\"159.033203\" xlink:href=\"#DejaVuSans-48\"/>\r\n      </g>\r\n     </g>\r\n    </g>\r\n    <g id=\"ytick_6\">\r\n     <g id=\"line2d_14\">\r\n      <g>\r\n       <use style=\"stroke:#000000;stroke-width:0.8;\" x=\"36.465625\" xlink:href=\"#m1665a42236\" y=\"80.830476\"/>\r\n      </g>\r\n     </g>\r\n     <g id=\"text_14\">\r\n      <!-- 12.5 -->\r\n      <g transform=\"translate(7.2 84.629695)scale(0.1 -0.1)\">\r\n       <use xlink:href=\"#DejaVuSans-49\"/>\r\n       <use x=\"63.623047\" xlink:href=\"#DejaVuSans-50\"/>\r\n       <use x=\"127.246094\" xlink:href=\"#DejaVuSans-46\"/>\r\n       <use x=\"159.033203\" xlink:href=\"#DejaVuSans-53\"/>\r\n      </g>\r\n     </g>\r\n    </g>\r\n    <g id=\"ytick_7\">\r\n     <g id=\"line2d_15\">\r\n      <g>\r\n       <use style=\"stroke:#000000;stroke-width:0.8;\" x=\"36.465625\" xlink:href=\"#m1665a42236\" y=\"52.068571\"/>\r\n      </g>\r\n     </g>\r\n     <g id=\"text_15\">\r\n      <!-- 15.0 -->\r\n      <g transform=\"translate(7.2 55.86779)scale(0.1 -0.1)\">\r\n       <use xlink:href=\"#DejaVuSans-49\"/>\r\n       <use x=\"63.623047\" xlink:href=\"#DejaVuSans-53\"/>\r\n       <use x=\"127.246094\" xlink:href=\"#DejaVuSans-46\"/>\r\n       <use x=\"159.033203\" xlink:href=\"#DejaVuSans-48\"/>\r\n      </g>\r\n     </g>\r\n    </g>\r\n    <g id=\"ytick_8\">\r\n     <g id=\"line2d_16\">\r\n      <g>\r\n       <use style=\"stroke:#000000;stroke-width:0.8;\" x=\"36.465625\" xlink:href=\"#m1665a42236\" y=\"23.306667\"/>\r\n      </g>\r\n     </g>\r\n     <g id=\"text_16\">\r\n      <!-- 17.5 -->\r\n      <g transform=\"translate(7.2 27.105885)scale(0.1 -0.1)\">\r\n       <use xlink:href=\"#DejaVuSans-49\"/>\r\n       <use x=\"63.623047\" xlink:href=\"#DejaVuSans-55\"/>\r\n       <use x=\"127.246094\" xlink:href=\"#DejaVuSans-46\"/>\r\n       <use x=\"159.033203\" xlink:href=\"#DejaVuSans-53\"/>\r\n      </g>\r\n     </g>\r\n    </g>\r\n   </g>\r\n   <g id=\"patch_13\">\r\n    <path d=\"M 36.465625 224.64 \r\nL 36.465625 7.2 \r\n\" style=\"fill:none;stroke:#000000;stroke-linecap:square;stroke-linejoin:miter;stroke-width:0.8;\"/>\r\n   </g>\r\n   <g id=\"patch_14\">\r\n    <path d=\"M 371.265625 224.64 \r\nL 371.265625 7.2 \r\n\" style=\"fill:none;stroke:#000000;stroke-linecap:square;stroke-linejoin:miter;stroke-width:0.8;\"/>\r\n   </g>\r\n   <g id=\"patch_15\">\r\n    <path d=\"M 36.465625 224.64 \r\nL 371.265625 224.64 \r\n\" style=\"fill:none;stroke:#000000;stroke-linecap:square;stroke-linejoin:miter;stroke-width:0.8;\"/>\r\n   </g>\r\n   <g id=\"patch_16\">\r\n    <path d=\"M 36.465625 7.2 \r\nL 371.265625 7.2 \r\n\" style=\"fill:none;stroke:#000000;stroke-linecap:square;stroke-linejoin:miter;stroke-width:0.8;\"/>\r\n   </g>\r\n  </g>\r\n </g>\r\n <defs>\r\n  <clipPath id=\"pe2b4c8c80e\">\r\n   <rect height=\"217.44\" width=\"334.8\" x=\"36.465625\" y=\"7.2\"/>\r\n  </clipPath>\r\n </defs>\r\n</svg>\r\n"
     },
     "metadata": {
      "needs_background": "light"
     }
    }
   ],
   "source": [
    "# Plot da reta e dos pares\n",
    "\n",
    "# cor = np.where(vetor_resposta == 0, \"green\", \"red\")\n",
    "\n",
    "# print(\"Total de ajustes de peso: \", mudanca_total)\n",
    "# print(\"Total de épocas: \", epoca)\n",
    "\n",
    "# plt.scatter(vetor1,vetor2, c=cor)\n",
    "# plt.plot(x, y)\n",
    "print(vetor_mudanca_peso[0])\n",
    "\n",
    "plt.hist(vetor_mudanca_peso[0])\n"
   ]
  },
  {
   "cell_type": "code",
   "execution_count": null,
   "metadata": {},
   "outputs": [],
   "source": []
  }
 ]
}